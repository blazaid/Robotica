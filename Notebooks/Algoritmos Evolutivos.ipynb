{
 "cells": [
  {
   "cell_type": "code",
   "execution_count": 0,
   "metadata": {
    "colab": {},
    "colab_type": "code",
    "id": "HqSr6KSf_Pvy"
   },
   "outputs": [],
   "source": []
  },
  {
   "cell_type": "markdown",
   "metadata": {
    "colab_type": "text",
    "id": "Y4YKRZjnAKm3"
   },
   "source": [
    "# Introducción\n",
    "Los algoritmos evolutivos (_EAs: Evolutionary Algorithms_) son técnicas metaheurísticas para resolver problemas de optimización, búsqueda y aprendizaje computacional (_Machine Learning_). Estas técnicas se inspiran en procesos que suceden en la naturaleza, como la selección natural, la supervivencia del más fuerte y la transmisión genética de los rasgos de los padres a sus hijos.\n",
    "\n",
    "- Desde un punto de vista **matemático**, los EAs se consideran métodos numéricos\n",
    "- Desde un punto de vista **computacional**, estas técnicas se consideran programas software\n",
    "- Desde el punto de vista de **otras aplicaciones**, los EAs son simplemente herramientas disponibles para su uso.\n",
    "\n",
    "Una de las principales ventajas que aportan este tipo de técnicas es su **gran aplicabilidad** a la resolución de multitud de tareas y problemas de optimización. Sirvan de ejemplo algunos de las siguientes familias de problemas de optimización para los cuales se han aplicado algoritmos evolutivos:\n",
    "\n",
    "- Optimización numérica, como el problema de la mochila que ya hemos tratado en el tema anterior, o el problema del viajante de comercio que trataremos más adelante.\n",
    "- [Particionado de grafos](https://en.wikipedia.org/wiki/Graph_partition)\n",
    "- Diseño de circuitos VLSI (_Very Large Scale Integration_): es el proceso de crear un circuito integrado compuesto por cientos de miles de transistores en un único chip.\n",
    "- Diseño y entrentamiento de redes neuronales y arquitecturas profundas\n",
    "- Telecomunicaciones: redes de sensores, distribución de antenas de telecomunicación, etc.\n",
    "\n",
    "Dentro del ámbito académico, los algoritmos evolutivos se enmarcan en lo que se conoce como [Soft Computing](https://es.wikipedia.org/wiki/Soft_Computing), o Inteligencia Computacional. En esta familia de algoritmos se encuentran, además de los EAs, las redes neuronales artificiales y la lógica difusa, entre otros.\n",
    "\n",
    "A continuación se encuentra la definición más simple de un algoritmo evolutivo:\n",
    "\n",
    "```\n",
    "t = 0\n",
    "inicializar población\n",
    "evaluar población\n",
    "mientras no se cumpla la condición de terminación:\n",
    "    población* = variación(población)\n",
    "    evaluar población*\n",
    "    población(t+1) = selección(población*)\n",
    "    t = t+1\n",
    "fin mientras\n",
    "```\n",
    "\n",
    "\n"
   ]
  },
  {
   "cell_type": "code",
   "execution_count": 0,
   "metadata": {
    "colab": {},
    "colab_type": "code",
    "id": "xRR89OOt7_F0"
   },
   "outputs": [],
   "source": [
    "# Implementación de un algoritmo evolutivo básico y parametrizable\n",
    "def evolutivo(n_iters, evaluar, variacion, seleccion, N, crear_solucion):\n",
    "    t = 0\n",
    "    pop = [crear_solucion() for _ in range(N)]\n",
    "    fitness = map(evaluar, pop)\n",
    "    while t < n_iters:\n",
    "        pop2 = map(variacion, pop)\n",
    "        fitness2 = map(evaluar, pop2)\n",
    "        pop = seleccion(pop + pop2)\n",
    "        t += 1\n",
    "    return pop\n"
   ]
  },
  {
   "cell_type": "markdown",
   "metadata": {
    "colab_type": "text",
    "id": "DaD7wN5z8Eug"
   },
   "source": [
    "Como se puede observar en el pseuco-código anterior, los algoritmos evolutivos son extremadamente simples. Si bien todavía no hemos hablado de población, variación, recombinación ni evaluación de poblaciones, terminología que se detallará más adelante en este mismo tema, el equema general del algoritmo es bastante simple.\n",
    "\n",
    "En resumen, las principales ventajas e inconvenientes de los algoritmos evolutivos son los siguientes:\n",
    "\n",
    "- Ventajas:\n",
    "  - Trabajan sobre la codificación de un problema\n",
    "  - Aplicabilidad muy alta, basta con encontrar una codificación apropiada para tu problema\n",
    "  - No se obtiene solo una buena solución, sino que se obtiene toda una población de buenas soluciones\n",
    "  - Explotación y exploración del espacio de búsqueda configurable\n",
    "- Inconvenientes:\n",
    "  - No está asegurado encontrar un óptimo\n",
    "  - Hay muchas líneas de investigación abiertas\n",
    "  - Alta demanda computacional"
   ]
  },
  {
   "cell_type": "markdown",
   "metadata": {
    "colab_type": "text",
    "id": "_3V8CuE75l1a"
   },
   "source": [
    "# Elementos de un Algoritmo Evolutivo\n",
    "A continuación se describen uno por uno los diferentes elementos que conforman un Algoritmo Evolutivo, y por tanto hay que definir y, en algunos casos, implementar siempre que se pretenda resolver un problema de optimización con alguna de estas técnicas.\n",
    "\n",
    "## El individuo (o cómo codificar la solución)\n",
    "La idea principal de los algoritmos evolutivos es que las posibles soluciones a un problema de optimización se codifican como si del individuo de una determinada población se tratase. Desde el punto de vista de la teoría de la evolución de Darwin, los individuos que son capaces de adaptarme mejor al medio que les rodea son aquellos que sobreviven y se reproducen, transmitiendo su información genética a su progenie. Pequeñas mutaciones a nivel genético hacen que determinados individuos desarrollen capacidades especiales para adaptarse mejor o peor al medio que les rodea, y estas mutaciones son las que se transmiten a los descendientes.\n",
    "\n",
    "Por tanto, el primer paso es buscar una codificación adecuada para las soluciones candidatas a nuestro problema de optimización en forma de individuo, el cual deberá tener un cromosoma formado por distintos genes. Cada gen puede tomar una serie de valores, los cuales se codifican en el alelo de dicho gen:\n",
    "\n",
    "\n",
    "![Esquema de un individuo](https://i.imgur.com/oDzywrt.png)\n",
    "\n",
    "Un detalle importante es que los alelos pueden ser tan simples o complejos como requiera tu problema de optimización, desde valores enteros y reales, pasando por arrays e incluso tipos derivados.\n",
    "\n",
    "### Algunos ejemplos de codificación de soluciones\n",
    "\n",
    "![Posible solución al problema de las n reinas en tablero 8x8](https://miro.medium.com/max/630/1*Zm2pbDR5CS2w2xeUbTBxQQ.png)\n",
    "\n",
    "El **problema de las ocho reinas** es un pasatiempo que consiste en poner ocho reinas en el tablero de ajedrez sin que se amenacen. Fue propuesto por el ajedrecista alemán Max Bezzel en 1848. En el juego del ajedrez la reina amenaza a aquellas piezas que se encuentren en su misma fila, columna o diagonal. El juego de las 8 reinas consiste en poner sobre un tablero de ajedrez ocho reinas sin que estas se amenacen entre ellas. Este problema se puede generalizar variando el tamaño del tablero y el número de reinas que hay que colocar. A esto se le conoce como **el problema de las $n$ reinas**, donde hay que colocar $n$ reinas en un tablero de $n \\times n$ de forma que no se amenacen entre ellas.\n",
    "\n",
    "Una posible codificación de las soluciones al problema de las $n$ reinas sería un cromosoma con $n \\times n$ genes, cuyos alelos podrían tomar valores 0 y 1, dependiendo de si en esa casilla colocamos una reina o no. En otras palabras, tratamos el tablero de ajedrez bidimensional como un array unidimensional:\n",
    "\n",
    "$$\n",
    "I=\\langle x_1, x_2, \\ldots, x_{n \\times n} \\rangle, x_i \\in \\left \\{0, 1 \\right\\}\n",
    "$$\n"
   ]
  },
  {
   "cell_type": "markdown",
   "metadata": {
    "colab_type": "text",
    "id": "6ICLccUbpiTY"
   },
   "source": [
    "![Esquema de red neuronal artificial](https://cdn-images-1.medium.com/max/1600/1*Gh5PS4R_A5drl5ebd_gNrg@2x.png)\n",
    "\n",
    "El problema del **entrenamiento de una red neuronal artificial** supone determinar los mejores pesos sinápticos entre unidades de forma que se optimice la función objetivo que se está intentando modelar (un clasificador, una regresión, etc.). Podemos utilizar un algoritmo de entrenamientos clásico de la literatura, como por ejemplo el _back propagation_, o bien podríamos usar un algoritmo evolutivo para determinar esos pesos. Por lo tanto, una posible codificación de las soluciones de este problema en forma de individuo sería tener un único cromosoma con $\\sum_{i=1}^{k} n_i$ genes, donde $n_i$ es el número de pesos a entrenar en la capa $i$. Al igual que pasaba con el problema de las $n$ reinas, 'aplanamos' nuestras matrices de pesos sinápticos en un único vector unidimensional por pura conveniencia.\n",
    "\n",
    "Otra posible codificación sería emplear individuos con $k$ cromosomas, donde $k$ es el número de capas del modelo a entrenar. De esta forma haríamos una distinción en el proceso evolutivo entre las diferentes capas neuronales."
   ]
  },
  {
   "cell_type": "markdown",
   "metadata": {
    "colab_type": "text",
    "id": "r_Vyak9cvjpw"
   },
   "source": [
    "![Problema del viajante](https://optimization.mccormick.northwestern.edu/images/e/ea/48StatesTSP.png)\n",
    "\n",
    "El **problema del viajante/comercial** (conocido como _TSP: Travelling Salesman Problem_) plantea la siguiente pregunta:\n",
    "\n",
    "> Dada una lista de ciudades y las distancias entre cada par de ciudades, ¿cuál es la ruta más corta posible que visita cada ciudad y vuelve a la ciudad de origen?\n",
    "\n",
    "Es un problema de optimización combinatoria NP-hard que se usa normalmente como _benchmark_ para comparar diferentes técnicas de optimización. El problema se formuló por primera vez en 1930 y es uno de los problemas de optimización más estudiados. Aunque el problema es difícil de calcular, se conoce un gran número de heurísticas y algoritmos exactos, de modo que algunos casos con decenas de miles de ciudades pueden ser resueltos completamente e incluso los problemas con millones de ciudades pueden ser aproximados.\n",
    "\n",
    "El TSP tiene varias aplicaciones incluso en su formulación más pura, como la planificación, la logística y la fabricación de microchips. Ligeramente modificado, aparece como un subproblema en muchas áreas, como la secuenciación del ADN. En estas aplicaciones, el concepto de ciudad representa, por ejemplo, clientes, puntos de soldadura o fragmentos de ADN, y el concepto de distancia representa tiempos o costes de viaje, o una medida de similitud entre fragmentos de ADN. El TSP también aparece en astronomía, los astrónomos que observan muchas fuentes querrán minimizar el tiempo que pasan moviendo el telescopio entre las fuentes. En muchas aplicaciones, pueden imponerse restricciones adicionales, como recursos limitados o ventanas de tiempo.\n",
    "\n",
    "Desde el punto de vista de la codificación de las soluciones de este problema, hay que pensar en las restricciones que nos impone el problema. Una de ellas nos dice que tenemos que recorrer todas las ciudades, y la otra que tenemos que empezar y acabar en la misma ciudad. Por lo tanto, lo que realmente importa en nuestras soluciones es el orden en el que visitamos las ciudades. Y como estamos obligados a pasar por todas, podemos concluir que una posible representación de las soluciones para este problema serían permutaciones de las ciudades, es decir, un cromosoma con tantos genes como ciudades haya en el problema, y en el cual cada alelo puede tomar el valor de una ciudad:\n",
    "\n",
    "$$\n",
    "I = \\langle x_1, x_2, \\ldots, x_n \\rangle \\\\\n",
    "{\\Large \\forall} i,j \\in \\left \\{1, \\ldots, n \\right \\}, x_i \\neq x_j, x_i \\in CIUDADES\n",
    "$$"
   ]
  },
  {
   "cell_type": "markdown",
   "metadata": {
    "colab_type": "text",
    "id": "QXY5IHsOzYz6"
   },
   "source": [
    "## La función de _fitness_ (calidad)\n",
    "Como ya se ha dicho antes, los algoritmos evolutivos basan su funcionamiento en la teoría de la evolución de Darwin, en la cual los elementos mejor adaptados son los que sobreviven, mejorando así generación tras generación la calidad de la población al completo. Por tanto, parece razonable que a al hora de resolver un problema de optimización con un algoritmo evolutivo haya que definir, de alguna forma, cómo de bien adaptado está un determinado individuo al medio. O lo que es lo mismo, qué calidad tiene la solución codificada en mi individuo.\n",
    "\n",
    "Una función de _fitness_ se aplica sobre un individuo de la población para obtener un valor de su calidad, generalmente un valor numérico real:\n",
    "\n",
    "$$\n",
    "f: \\mathbb{S} \\rightarrow \\mathbb{R}\n",
    "$$\n",
    "\n",
    "La importancia de esta función con respecto al funcionamiento de un algoritmo evolutivo es **enorme**, pues si el algoritmo no es capaz de medir la calidad de las soluciones parciales que va explorando generación tras generación, no será capaz de realizar una búsqueda guiada y por tanto se transformará en una búsqueda aleatoria. Por tanto, uno de los **pasos más importantes** en el uso de los algoritmos evolutivos es, precisamente, elegir la función de _fitness_ adecuada.\n",
    "\n",
    "También hay que tener en cuenta que la función de _fitness_ dependerá en gran medida del problema que se intente resolver. Por tanto no hay una regla de oro para elegir una buena función. Lo que si que se ha estudiado son características y transformaciones que se pueden realizar a las funciones de _fitness_ para que el algoritmo funcione mejor. Son las siguientes:\n",
    "\n",
    "- **Escalado**: intenta separar al máximo los distintos valores de _fitness_ que se asignan a los individuos para facilitar la selección. Suele funcionar bien elevar al cuadrado los valores de la función.\n",
    "- **Compartición**: soluciones parecidas deben tener valores de _fitness_ similares, de esta forma se agrupan en el espacio de búsqueda y es más fácil aprovechar la faceta exploratoria del mismo.\n",
    "- **Ranking**: de la misma forma, la función debe servir para ordenar una población de soluciones dependiendo de su calidad.\n",
    "\n",
    "Es importante destacar que se pueden configurar los algoritmos evolutivos para que busquen soluciones tanto con un valor alto de _fitness_ como con uno bajo. Es decir, este valor de calidad se puede **maximizar** y **minimizar**.\n",
    "\n",
    "### Ejemplos de funciones de _fitness_\n",
    "Siguiendo con los ejemplos de problemas para los cuales ya hemos buscado una codificación en individuos de las soluciones candidatas, vamos a analizar y determinar posibles funciones de _fitness_ para estos problemas:\n",
    "\n",
    "- **Problema de las n reinas**: Lo que buscamos en este problema es que no haya ningúna reina amenazándose con otra. Por lo tanto una posible función de fitness podría ser el número de reinas amenazándose de una determinada solución. Habría que configurar el algoritmo evolutivo para que minimizase el _fitness_.\n",
    "- **Problema del entrenamiento de una red neuronal artificial**: Si queremos mejorar el desempeño de la red neuronal artificial, habría que intentar minimizar el error existente entre el resultado esperado y el proporcionado por la red. En estos casos se suele utilizar el error cuadrático medio como función de _fitness_. De nuevo, estamos ante un _fitness_ que hay que minimizar.\n",
    "- **Problema del viajante**: En este caso había que recorrer todas las ciudades, minimizando la distancia recorrida. Por lo tanto, la función de _fitness_ será el sumatorio de las ditancias entre ciudades, según se recorran las ciudades en el orden que determina el individuo."
   ]
  },
  {
   "cell_type": "markdown",
   "metadata": {
    "colab_type": "text",
    "id": "nQvdiRIzANuj"
   },
   "source": [
    "## Recombinación\n",
    "El operador de recombinación se utiliza para generar nuevas soluciones a partir de otras ya existentes, de forma que las nuevas soluciones generadas comparten parte de su carga genética con las soluciones que han servido para generarlas. En otras palabras, el operador de recombinación coge dos o más soluciones (padres) y recombina los genes de sus cromosomas, de forma que los nuevos individuos (hijos) están formado por una combinación de los genes de los padres.\n",
    "\n",
    "Estos operadores se basan en la siguiente premisa:\n",
    "\n",
    "> Si tenemos dos buenas soluciones, las socluiones que generemos a partir de ellas también serán buenas. O lo que es lo mismo, si dos soluciones son buenas, la combinación de ellas tambén será buena (incluso mejor).\n",
    "\n",
    "Dependiendo de la codificación utilizada para los individuos, se tendrá que elegir alguno de los operadores de recombinación disponibles en la literatura, o bien desarrollar uno propio. A continuación se encuentra un listado de los operadores de recombinación más utilizados en la literatura, así como una explicación de su funcionamiento:\n",
    "\n",
    "### Cruce en 1 o n punto(s):\n",
    "Este método de recombinación funciona de la siguiente manera:\n",
    "\n",
    "![One-point Crossover](https://upload.wikimedia.org/wikipedia/commons/thumb/5/56/OnePointCrossover.svg/462px-OnePointCrossover.svg.png)\n",
    "\n",
    "La elección del punto de corte es aleatoria. Se puede generalizar para $n$ padres, aumentando entonces el número de hijos generados. En algunas ocasiones, el algoritmo evolutivo solo se queda con uno de los dos hijos.\n",
    "\n",
    "También se puede generalizar en el cruce en $n$ puntos. A continuación se puede ver el funcionamiento del cruce en 2 puntos:\n",
    "\n",
    "![n-point crossover](https://www.tutorialspoint.com/genetic_algorithms/images/multi_point_crossover.jpg)\n",
    "\n",
    "### Cruce uniforme\n",
    "En el cruce uniforme, se recorren en paralelo cada uno de los genes de los padres, y se decide aleatoriamente cuál de ellos se va a transmitir al hijo. La selección aleatoria se realiza de forma equiprobable, por lo que hay una probabilidad $p=0.5$ de elegir el gen de cada uno de los padres para transmitirlo al hijo.\n",
    "\n",
    "Generalmente, lo que se suele utilizar es generar una máscara binaria del tamaño del cromosoma de los padres, de forma que se crean dos hijos a partir de los padres, seleccionando los genes de cada una de las posiciones en función de la máscara aleatoria obtenida:\n",
    "\n",
    "![Uniform crossover](https://i.imgur.com/dWIK4G8.jpg)\n",
    "\n"
   ]
  },
  {
   "cell_type": "markdown",
   "metadata": {
    "colab_type": "text",
    "id": "zByv8zGSATWj"
   },
   "source": [
    "## Mutación\n",
    "Al igual que los operadores de recombinación, la mutación se utliliza para introducir diversidad en la población de soluciones. El funcionamiento de estos operadores se inspira en las mutaciones genéticas que sufren las especies. A partir de un individuo (solución candidata) puede generarse uno nuevo realizando una pequeña modificación a su cromosoma. De esta forma obtenemos una solución muy parecida, pero diferente.\n",
    "\n",
    "De nuevo, el operador de mutación tiene una fuerte dependencia de la codificación utilizada, en especial de los valores que pueden tomar los alelos. Por ejemplo, si tenemos alelos binarios, el operador de mutación realizaría una inversión del mismo a nivel de bit. En el caso de valores reales, un posible operador de mutación sería aquel que añade al valor de un alelo una pequeña perturbación aleatoria.\n",
    "\n",
    "A continuación se describen algunos de los operadores de mutación más conocidos:\n",
    "\n",
    "### Mutación bit-flip\n",
    "Esta mutación tiene sentido cuando tenemos individuos cuyos alelos pueden tomar valores binarios. El operador recorre cada uno de los genes del cromosoma, e invierte su valor con una probabilidad $p=\\frac{1}{n}$, donde $n$ es el número total de genes. De esta forma, a lo largo de las generaciones se mutarán 1 gen por iteración, aproximadamente.\n",
    "\n",
    "Este operador se puede extender para alelos que pueden tomar valores de un tipo enumerado, de forma que en lugar de realizar una inversión binaria, lo que se aplica en la mutación es un desplazamiento al siguiente valor del enumerado, de forma circular.\n",
    "\n",
    "### Mutación Gaussiana\n",
    "Operador de mutación para alelos con valores reales. Al igual que el anterior, recorre cada gen del cromosoma, aplicando una perturbación al mismo muestreada de una distribución Gaussiana. La probabilidad de mutación es parametrizable.\n",
    "\n",
    "$$\n",
    "mg_{\\{p_m\\}}:I \\rightarrow I, (s_1, s_2, \\ldots, s_n) = (s'_1, s'_2, \\ldots, s'_n) \\\\ {\\Large \\forall} j \\in \\left \\{ 1, \\ldots, n\\right \\} s'_j=\\begin{Bmatrix} s_j & \\mbox{ if } \\alpha > p_m\\\\ s_j + \\sigma_j ·N(0,1)  & \\mbox{ if } \\alpha \\leq p_m \\end{Bmatrix}\n",
    "$$\n",
    "\n",
    "Como se puede observar en la formulación matemática, este operador admite varios hiper-parámetros:\n",
    "\n",
    "- La probabilidad de mutación de un gen $p_m$\n",
    "- El tamaño de la perturbación $\\sigma_j$\n",
    "\n",
    "Estos parámetros pueden estar fijados al inicio del algoritmo evolutivo, o bien ir adaptándose a la situación actual dentro del proceso evolutivo. Por ejemplo, el tamaño de la perturbación podría ser alto al principio de la ejecución para potenciar la exploración, e ir reduciéndose con el paso de las generaciones para ir aprovechando la explotación. En el caso de la probabilidad de mutación, ésta también podría ir adaptándose a las condiciones del proceso evolutivo, como por ejemplo la diversidad de la población o el histórico de las últimas mejoras obtenidas.\n"
   ]
  },
  {
   "cell_type": "markdown",
   "metadata": {
    "colab_type": "text",
    "id": "3niTCrMuHsKg"
   },
   "source": [
    "## Selección\n",
    "Como hemos visto anteriormente, existen operadores de variación para obtener nuevas soluciones (individuos) a partir de otras. Mediante la aplicación iterativa de estos operadores a subconjuntos de la población de soluciones, el algoritmo evolutivo va mejorando progresivamente la calidad general de dicha población. Pero para garantizar esto, no se debería seleccionar este subconjunto de soluciones de forma arbitraria, ya que son soluciones que nos servirán como semillas para las nuevas. El mecanismo mediante el cual se selecciona un subconjunto de individuos de la población se conoce como el **mecanismo de selección**. Y, si bien es cierto que hay operadores de selección totalmente arbitrarios, lo normal es que aprovechen la valiosa información que nos da la función de _fitness_ para guiar, de algún modo, esa selección de soluciones que sirven como semilla para generar otras nuevas.\n",
    "\n",
    "### Selección proporcional al _fitness_, o ruleta\n",
    "Como su propio nombre indica, esta selección se basa en el valor de _fitness_ de los individuos de la población. De esta manera, si $f_i$ es el valor de calidad del i-ésimo individuo, entonces su probabilidad de ser seleccionado es:\n",
    "\n",
    "$$\n",
    "p_i = \\frac{f_i}{\\sum_{j=1}^{N} f_j}\n",
    "$$\n",
    "\n",
    "El nombre de ruleta se refiere a que el mecanismo de selección puede ser visto como hacer girar una ruleta en la que sus huecos representan cada uno de los individuos de la población, y en la cual los tamaños de los huecos son proporcionales al valor de _fitness_ de dicho individuo.\n",
    "\n",
    "### Selección por torneo\n",
    "En este caso, el mecanismo funciona seleccionando al azar un número determinado de soluciones, generalmente dos, y seleccionando aquella que tiene un mejor valor de _fitness_. De esta forma se simula una competición por el medio de varios individuos de la población.\n",
    "\n",
    "### Selección elitista o truncado\n",
    "Este mecanismo de selección es bastante simple. Su funcionamiento consiste en seleccionar siempre los $k$ individuos con mejores valores de _fitness_. Hay que tener mucho cuidado con el elitismo en los algoritmos evolutivos, pues un exceso del mismo puede llevar a que el algoritmo evolutivo se comporte en una búsqueda demasiado guiada, por lo que se podría estancar fácilmente en óptimos locales."
   ]
  },
  {
   "cell_type": "markdown",
   "metadata": {
    "colab_type": "text",
    "id": "Os_GOVzkRPbp"
   },
   "source": [
    "## Reemplazo\n",
    "En la última fase de cada generación de un algoritmo evolutivo es donde se encuentra la parte más importante de todo: el mecanismo de reemplazo. Este mecanismo es el encargado de decidir qué individuos se mantendrán en la población para la siguiente generación. En otras palabras, **qué individuos sobreviven**. Al tratarse de un proceso selectivo, pueden utilizarse las mismas técnicas de selección que se han descrito en la sección anterior.\n",
    "\n",
    "De hecho, es muy común combinar un reemplazo elitista de pequeño tamaño con otro de los mecanismos, para buscar un equilibrio entre exploración y explotación, garantizando que una pequeña cantidad de los mejores individuos pasan a la siguiente generación."
   ]
  },
  {
   "cell_type": "markdown",
   "metadata": {
    "colab_type": "text",
    "id": "uIEgYyLgTFEn"
   },
   "source": [
    "# Uniendo las piezas\n",
    "Una vez hemos definido las piezas que conforman un algoritmo evolutivo, a continuación se analiza cómo se combinan estas piezas entre sí, formando un algoritmo evolutivo. La forma en la que se unan dichas piezas, así como los distintos hiper-parámetros que se utilicen, caracterizan a las diferentes familias de algoritmos evolutivos.\n"
   ]
  },
  {
   "cell_type": "markdown",
   "metadata": {
    "colab_type": "text",
    "id": "fFR-S9jtUcq3"
   },
   "source": [
    "## El _breeding pipeline_\n",
    "El proceso lineal por el cual se selecciona un subconjunto de individuos y se generan nuevas soluciones a partir de ellos, aplicando los operadores de variación se conoce como _breeding pipeline_. Este proceso lineal determina el comportamiento del algoritmo evolutivo, por lo que es clave pensar en su diseño a la hora de enfrentarnos a un problema de optimización.\n",
    "\n",
    "![Ejemplo de Breeding Pipeline](https://www.researchgate.net/profile/Raul_Lara-Cabrera/publication/233732668/figure/fig3/AS:300012874551301@1448540051675/Genetic-algorithms-breeding-pipeline.png)\n",
    "\n",
    "Por ejemplo, el pipeline anterior define que los dos padres que necesita el operador de cruce se elegirán mediante una selección por torneo. Una vez se realiza el cruce, los individuos cruzados se someten a un proceso de mutación y se añaden al _pool_ de candidatos a sobrevivir hasta la siguiente generación.\n",
    "\n",
    "\n",
    "\n",
    "---\n",
    "\n",
    "**Problema 2.1** Implementa un algoritmo evolutivo con operadores parametrizables para resolver el problema de optimización _Max Ones_ que se define de la siguiente forma: el problema consiste en encontrar en array binario de tamaño $n$ con mayor número de unos. Implementa los operadores de mutación, recombinación y selección que consideres oportunos. \n",
    "\n",
    "---"
   ]
  },
  {
   "cell_type": "code",
   "execution_count": 1,
   "metadata": {
    "colab": {
     "base_uri": "https://localhost:8080/",
     "height": 405
    },
    "colab_type": "code",
    "executionInfo": {
     "elapsed": 1656,
     "status": "ok",
     "timestamp": 1590507636930,
     "user": {
      "displayName": "Raul Lara Cabrera",
      "photoUrl": "https://lh3.googleusercontent.com/a-/AOh14GiC2tLqxmdEagMDLQlMRZoBA7cUlPZQK_tpJobUaJg=s64",
      "userId": "09376789323423253756"
     },
     "user_tz": -120
    },
    "id": "UCkjV6PnZB5b",
    "outputId": "30400ca2-dadd-4c48-bf7c-ea1866a4ac28"
   },
   "outputs": [
    {
     "name": "stdout",
     "output_type": "stream",
     "text": [
      "El mejor fitness es  10\n",
      "Se han computado 7 evaluaciones\n"
     ]
    },
    {
     "data": {
      "text/html": [
       "\n",
       "<div id=\"altair-viz-79709f00737040dc9c0cd31f02d3224b\"></div>\n",
       "<script type=\"text/javascript\">\n",
       "  (function(spec, embedOpt){\n",
       "    let outputDiv = document.currentScript.previousElementSibling;\n",
       "    if (outputDiv.id !== \"altair-viz-79709f00737040dc9c0cd31f02d3224b\") {\n",
       "      outputDiv = document.getElementById(\"altair-viz-79709f00737040dc9c0cd31f02d3224b\");\n",
       "    }\n",
       "    const paths = {\n",
       "      \"vega\": \"https://cdn.jsdelivr.net/npm//vega@5?noext\",\n",
       "      \"vega-lib\": \"https://cdn.jsdelivr.net/npm//vega-lib?noext\",\n",
       "      \"vega-lite\": \"https://cdn.jsdelivr.net/npm//vega-lite@4.8.1?noext\",\n",
       "      \"vega-embed\": \"https://cdn.jsdelivr.net/npm//vega-embed@6?noext\",\n",
       "    };\n",
       "\n",
       "    function loadScript(lib) {\n",
       "      return new Promise(function(resolve, reject) {\n",
       "        var s = document.createElement('script');\n",
       "        s.src = paths[lib];\n",
       "        s.async = true;\n",
       "        s.onload = () => resolve(paths[lib]);\n",
       "        s.onerror = () => reject(`Error loading script: ${paths[lib]}`);\n",
       "        document.getElementsByTagName(\"head\")[0].appendChild(s);\n",
       "      });\n",
       "    }\n",
       "\n",
       "    function showError(err) {\n",
       "      outputDiv.innerHTML = `<div class=\"error\" style=\"color:red;\">${err}</div>`;\n",
       "      throw err;\n",
       "    }\n",
       "\n",
       "    function displayChart(vegaEmbed) {\n",
       "      vegaEmbed(outputDiv, spec, embedOpt)\n",
       "        .catch(err => showError(`Javascript Error: ${err.message}<br>This usually means there's a typo in your chart specification. See the javascript console for the full traceback.`));\n",
       "    }\n",
       "\n",
       "    if(typeof define === \"function\" && define.amd) {\n",
       "      requirejs.config({paths});\n",
       "      require([\"vega-embed\"], displayChart, err => showError(`Error loading script: ${err.message}`));\n",
       "    } else if (typeof vegaEmbed === \"function\") {\n",
       "      displayChart(vegaEmbed);\n",
       "    } else {\n",
       "      loadScript(\"vega\")\n",
       "        .then(() => loadScript(\"vega-lite\"))\n",
       "        .then(() => loadScript(\"vega-embed\"))\n",
       "        .catch(showError)\n",
       "        .then(() => displayChart(vegaEmbed));\n",
       "    }\n",
       "  })({\"config\": {\"view\": {\"continuousWidth\": 400, \"continuousHeight\": 300}}, \"data\": {\"name\": \"data-db571c329f93ccd70f1406680de8d08a\"}, \"mark\": \"line\", \"encoding\": {\"color\": {\"type\": \"nominal\", \"field\": \"variable\"}, \"x\": {\"type\": \"quantitative\", \"field\": \"gen\"}, \"y\": {\"type\": \"quantitative\", \"field\": \"value\"}}, \"$schema\": \"https://vega.github.io/schema/vega-lite/v4.8.1.json\", \"datasets\": {\"data-db571c329f93ccd70f1406680de8d08a\": [{\"gen\": 0, \"variable\": \"media\", \"value\": -1.0}, {\"gen\": 1, \"variable\": \"media\", \"value\": 3.37}, {\"gen\": 2, \"variable\": \"media\", \"value\": 5.26}, {\"gen\": 3, \"variable\": \"media\", \"value\": 6.29}, {\"gen\": 4, \"variable\": \"media\", \"value\": 7.23}, {\"gen\": 5, \"variable\": \"media\", \"value\": 7.76}, {\"gen\": 6, \"variable\": \"media\", \"value\": 8.27}, {\"gen\": 0, \"variable\": \"mejor\", \"value\": -1.0}, {\"gen\": 1, \"variable\": \"mejor\", \"value\": 8.0}, {\"gen\": 2, \"variable\": \"mejor\", \"value\": 8.0}, {\"gen\": 3, \"variable\": \"mejor\", \"value\": 8.0}, {\"gen\": 4, \"variable\": \"mejor\", \"value\": 9.0}, {\"gen\": 5, \"variable\": \"mejor\", \"value\": 9.0}, {\"gen\": 6, \"variable\": \"mejor\", \"value\": 10.0}]}}, {\"mode\": \"vega-lite\"});\n",
       "</script>"
      ],
      "text/plain": [
       "alt.Chart(...)"
      ]
     },
     "execution_count": 1,
     "metadata": {
      "tags": []
     },
     "output_type": "execute_result"
    }
   ],
   "source": [
    "import itertools\n",
    "import pandas as pd\n",
    "import numpy as np\n",
    "import altair as alt\n",
    "import statistics\n",
    "from random import random, choice, sample\n",
    "\n",
    "# Tamaño de la instancia\n",
    "n = 10\n",
    "\n",
    "# Codificación del individuo: ¿Cómo codificamos las posibles soluciones al problema?\n",
    "# individuo_maxones = ([0, 1, 1, 0, 0], 2)\n",
    "\n",
    "# Función de fitness\n",
    "def fitness_maxones(cromosoma):\n",
    "    # TODO: Implementar la función de fitness para resolver el problema\n",
    "    return sum(cromosoma)\n",
    "\n",
    "# Operadores\n",
    "def mutacion_maxones(ind, pmg):\n",
    "    for gen in range(len(ind[0])):\n",
    "        if random() <= pmg:\n",
    "            ind[0][gen] = (ind[0][gen] + 1) % 2\n",
    "\n",
    "def recombinacion_maxones(ind1, ind2):\n",
    "    # Seleccionar punto de corte aleatorio\n",
    "    px = choice(range(len(ind1[0])))\n",
    "    \n",
    "    hijo1 = (ind1[0][:px] + ind2[0][px:], -1)\n",
    "    hijo2 = (ind2[0][:px] + ind1[0][px:], -1)\n",
    "    \n",
    "    return hijo1, hijo2\n",
    "\n",
    "def seleccion_torneo(poblacion, k=2):\n",
    "    luchadores = sample(poblacion, k)\n",
    "    return sorted(luchadores, key=lambda ind: ind[1], reverse=True)[0]\n",
    "\n",
    "def seleccion_elitista(poblacion, k):\n",
    "    ordenada = sorted(poblacion, key=lambda ind: ind[1], reverse=True)\n",
    "    return ordenada[:k], ordenada[k:]\n",
    "\n",
    "# def seleccion_ruleta(poblacion, k):\n",
    "#     supervivientes = []\n",
    "#     candidatos = list(poblacion)\n",
    "    \n",
    "#     for _ in range(k):\n",
    "#         calidades = map(lambda ind: ind[1], candidatos)\n",
    "#         calidad_total = sum(calidades)\n",
    "#         calidades_relativas = map(lambda c: float(c)/calidad_total, calidades)\n",
    "#         calidades_acumuladas\n",
    "#         posicion\n",
    "        \n",
    "\n",
    "def simple_ea(num_gens, npob, lambda_, px, pmut, pmg, elite):\n",
    "    poblacion = [([choice([0,1]) for _ in range(n)], -1) for _ in range(npob)]\n",
    "    historico_fitness = []\n",
    "    fitness_medio = []\n",
    "    desviaciones = []\n",
    "    gen = 0\n",
    "    \n",
    "    # Evaluar la población inicial\n",
    "    for individuo in poblacion:\n",
    "        # ([0, 1, 1, 0], -1)\n",
    "        individuo = (individuo[0], fitness_maxones(individuo[0]))\n",
    "    \n",
    "    historico_fitness.append(sorted(poblacion, key=lambda ind: ind[1], reverse=True)[0][1])\n",
    "    fitness_medio.append(statistics.mean([i[1] for i in poblacion]))\n",
    "    desviaciones.append(statistics.stdev([i[1] for i in poblacion]))\n",
    "    \n",
    "    while gen <= num_gens and historico_fitness[-1] < n:\n",
    "        descendientes = []\n",
    "        for _ in range(lambda_):\n",
    "            # Seleccion de padres\n",
    "            padre1 = seleccion_torneo(poblacion)\n",
    "            padre2 = seleccion_torneo(poblacion)\n",
    "            # Generamos los descendientes (cruce)\n",
    "            if random() <= px:\n",
    "                hijo1, hijo2 = recombinacion_maxones(padre1, padre2)\n",
    "            else:\n",
    "                hijo1, hijo2 = padre1, padre2\n",
    "            # Sometemos a mutación a los descendientes\n",
    "            if random() <= pmut:\n",
    "                mutacion_maxones(hijo1, pmg)\n",
    "                mutacion_maxones(hijo2, pmg)\n",
    "            # Evaluamos los descendientes\n",
    "            hijo1 = (hijo1[0], fitness_maxones(hijo1[0]))\n",
    "            hijo2 = (hijo1[0], fitness_maxones(hijo1[0]))\n",
    "            # Añadimos los descendientes a nuestra subpoblación\n",
    "            descendientes.append(hijo1)\n",
    "            descendientes.append(hijo2)\n",
    "\n",
    "        # Seleccionamos los supervivientes\n",
    "        top, resto = seleccion_elitista(poblacion + descendientes, elite)\n",
    "        poblacion = top + sample(resto, npob - elite)\n",
    "        #poblacion = sample(poblacion + descendientes, npob)\n",
    "        \n",
    "        \n",
    "        # Guardar el mejor valor de fitness de la población\n",
    "        historico_fitness.append(top[0][1])\n",
    "        fitness_medio.append(statistics.mean([i[1] for i in poblacion]))\n",
    "        desviaciones.append(statistics.stdev([i[1] for i in poblacion]))\n",
    "        mejor_ind = top[0]\n",
    "        gen += 1\n",
    "    \n",
    "    return mejor_ind, poblacion, historico_fitness, fitness_medio, desviaciones\n",
    "\n",
    "best, pob, hist, medio, desv = simple_ea(num_gens=1000, \n",
    "                                         npob=100, \n",
    "                                         lambda_=50, \n",
    "                                         px=1.0, \n",
    "                                         pmut=0.5, \n",
    "                                         pmg=1.0/n, \n",
    "                                         elite=50)\n",
    "\n",
    "print('El mejor fitness es ', best[1])\n",
    "print('Se han computado %d evaluaciones' % len(hist))\n",
    "\n",
    "resultados = pd.DataFrame({'gen': range(len(hist)), \n",
    "                           'media': medio,\n",
    "                           #'sd': desv,\n",
    "                           'mejor': hist\n",
    "                          })\n",
    "resultados = resultados.melt(id_vars=['gen'])\n",
    "alt.Chart(resultados).mark_line().encode(x='gen', y='value', color='variable')"
   ]
  },
  {
   "cell_type": "markdown",
   "metadata": {
    "colab_type": "text",
    "id": "oT5sjipHT0ev"
   },
   "source": [
    "## Familias de algoritmos evolutivos\n",
    "Dependiendo de los hiper-parámetros y operadores que se utilicen, los algoritmos evolutivos se dividen en diferentes familias. Estas familias fueron surgiendo de forma paralela conforme se popularizaban estos algoritmos. A continuación se detallan algunas de las familiar más representativas.\n",
    "\n",
    "### Algoritmos genéticos\n",
    "Es el algoritmo evolutivo más conocido y utilizado. La evolución suele partir de una población de individuos generados aleatoriamente, y es un proceso iterativo, en el cual la población en cada iteración llamada una generación. En cada generación, se evalúa la aptitud de cada individuo de la población; la aptitud es generalmente el valor de la función objetiva en el problema de optimización que se está resolviendo. Los individuos más aptos son seleccionados estocásticamente de la población actual, y el genoma de cada individuo es modificado (recombinado y posiblemente mutado al azar) para formar una nueva generación. La nueva generación de soluciones candidatas se utiliza en la siguiente iteración del algoritmo. Comúnmente, el algoritmo termina cuando se ha producido un número máximo de generaciones, o cuando se ha alcanzado un nivel de aptitud satisfactorio para la población.\n",
    "\n",
    "Tradicionalmente, las soluciones candidatas se representaban como cadenas de bits, aunque se permiten otras codificaciones. La principal propiedad que hace que estas representaciones genéticas sean convenientes es que sus partes son fácilmente alineadas debido a su tamaño fijo, lo que facilita las operaciones de cruce. También se pueden utilizar representaciones de longitud variable, pero la implementación del cruce es más compleja en este caso.\n",
    "\n",
    "### Estrategias de evolución\n",
    "Las estrategias de evolución utilizan representaciones dependientes del problema, y principalmente mutación y selección como operadores de búsqueda. Al igual que los algoritmos genéticos, los operadores se aplican en un bucle.\n",
    "\n",
    "La particularidad de estos algoritmos radica en la forma que tienen de aplicar la mutación, la cual se realiza añadiendo un valor aleatorio normalmente distribuido a cada componente vectorial. El tamaño del paso o la intensidad de la mutación (es decir, la desviación estándar de la distribución normal) se adapta automáticamente teniendo en cuenta el estado de ejecución particular del algoritmo. Otra de las peculiaridades de esta familia de algoritmos es que la selección se realiza de forma determinista, basándose únicamente en los valores de _fitness_ de los individuos.\n",
    "\n",
    "Por último, las estrategias de evolución se caracterizan en base a dos parámetros $\\mu$ y $\\lambda$. El parámetro $\\mu$ se corresponde con el número de individuos que se utilizan como padres para generar $\\lambda$ hijos. Una vez establecidos estos parámetros, solo queda por decidir si los individuos que pasarán a la siguiente generación se seleccionarán exclusivamente de entre los hijos generados $(\\mu, \\lambda)$ o de entre el conjunto que forman tanto padres como hijos $(\\mu + \\lambda)$.\n",
    "\n",
    "### Programación genética\n",
    "La programación genética es una familia de algoritmos evolutivos con una codificación especial de las soluciones: árboles. Estos árboles representan programas, ya que los nodos de los mismos se corresponden con funciones y operadores, cuyos resultados sirven como entradas para otros operadores.\n",
    "\n",
    "![Genetic Programming Tree](https://upload.wikimedia.org/wikipedia/commons/7/77/Genetic_Program_Tree.png)\n",
    "\n",
    "La parte más compleja a la hora de utilizar estos algoritmos es, precisamente, definir las operaciones que formarán parte del lenguaje de dominio específico que codifican las soluciones. Como contrapartida, la flexibilidad de las soluciones encontradas hacen de este grupo de algoritmos una herramienta muy potente, sobre todo cuando no se sabe a ciencia cierta la forma que tienen las soluciones.\n",
    "\n",
    "Como es de esperar, los operadores de variación de la programación genética son específicos para codificaciones en forma de árbol. Generalmente el cruce intercambia dos subárboles de cada uno de los padres, mientras que la mutación cambia un nodo al azar."
   ]
  },
  {
   "cell_type": "markdown",
   "metadata": {
    "colab_type": "text",
    "id": "rkbbtEzbsvhQ"
   },
   "source": [
    "# Problemas\n",
    "\n",
    "\n",
    "\n",
    "---\n",
    "\n",
    "**Problema 2.2** Utiliza un algoritmo genético para resolver el problema de optimización de la **Mochila ilimitada** que planteamos en el tema anterior y compara los resultados con los obtenidos por el algoritmo del temple simulado\n",
    "\n",
    "---\n",
    "\n"
   ]
  },
  {
   "cell_type": "code",
   "execution_count": 0,
   "metadata": {
    "colab": {},
    "colab_type": "code",
    "id": "jH7zMjdWsu96"
   },
   "outputs": [],
   "source": [
    "# Instancia de Unbounded Knapsack Problem\n",
    "wi = (0.98, 1.12, 20.0, 3.14, 15.0, 7.2, 5.5, 14.9, 17.3, 10.0)\n",
    "vi = (12.0, 7.8, 25.4, 10.0, 13.0, 7.2, 19.7, 15.0, 12.4, 7.2)\n",
    "W = 250.0"
   ]
  },
  {
   "cell_type": "markdown",
   "metadata": {
    "colab_type": "text",
    "id": "JhGD3-hjt4jI"
   },
   "source": [
    "\n",
    "\n",
    "---\n",
    "\n",
    "**Problema 2.3** Utiliza un algoritmo genético para resolver el problema de las **n reinas** para $n \\geq 20$\n",
    "\n",
    "\n",
    "---\n",
    "\n"
   ]
  },
  {
   "cell_type": "code",
   "execution_count": 0,
   "metadata": {
    "colab": {},
    "colab_type": "code",
    "id": "Ar9ZDCxP5koB"
   },
   "outputs": [],
   "source": [
    "# Problema de las n reinas\n",
    "n = 20"
   ]
  },
  {
   "cell_type": "markdown",
   "metadata": {
    "colab_type": "text",
    "id": "M5LR6psVxQUW"
   },
   "source": [
    "\n",
    "\n",
    "---\n",
    "\n",
    "**Problema 2.4** Resuelve la siguiente instancia del problema del **viajante de comercio** mediante un algoritmo genético.\n",
    "\n",
    "\n",
    "---\n",
    "\n"
   ]
  },
  {
   "cell_type": "code",
   "execution_count": 0,
   "metadata": {
    "colab": {},
    "colab_type": "code",
    "id": "5Jcw2Zm6xkdK"
   },
   "outputs": [],
   "source": [
    "import numpy as np\n",
    "from random import random, randint\n",
    "from itertools import permutations\n",
    "\n",
    "N = 100\n",
    "ciudades = np.random.randint(100,1000,size=(N,N))\n",
    "ciudades = (ciudades + ciudades.T)/2\n",
    "np.fill_diagonal(ciudades, 0)\n",
    "ciudades.shape\n",
    "\n",
    "def cxPartialyMatched(ind1, ind2):\n",
    "    ind1, ind2 = ind1[0], ind2[0]\n",
    "    size = min(len(ind1), len(ind2))\n",
    "    p1, p2 = [0] * size, [0] * size\n",
    "\n",
    "    # Initialize the position of each indices in the individuals\n",
    "    for i in range(size):\n",
    "        p1[ind1[i]] = i\n",
    "        p2[ind2[i]] = i\n",
    "    # Choose crossover points\n",
    "    cxpoint1 = randint(0, size)\n",
    "    cxpoint2 = randint(0, size - 1)\n",
    "    if cxpoint2 >= cxpoint1:\n",
    "        cxpoint2 += 1\n",
    "    else:  # Swap the two cx points\n",
    "        cxpoint1, cxpoint2 = cxpoint2, cxpoint1\n",
    "\n",
    "    # Apply crossover between cx points\n",
    "    for i in range(cxpoint1, cxpoint2):\n",
    "        # Keep track of the selected values\n",
    "        temp1 = ind1[i]\n",
    "        temp2 = ind2[i]\n",
    "        # Swap the matched value\n",
    "        ind1[i], ind1[p1[temp2]] = temp2, temp1\n",
    "        ind2[i], ind2[p2[temp1]] = temp1, temp2\n",
    "        # Position bookkeeping\n",
    "        p1[temp1], p1[temp2] = p1[temp2], p1[temp1]\n",
    "        p2[temp1], p2[temp2] = p2[temp2], p2[temp1]\n",
    "\n",
    "    return (ind1, -1), (ind2, -1)\n",
    "\n",
    "def mutacion_permutacion(ind1):\n",
    "    pos = random.sample(range(len(ind1[0])), k=2)\n",
    "    tmp = ind1[pos[0]]\n",
    "    ind1[0][pos[0]] = ind1[0][pos[1]]\n",
    "    ind1[0][pos[1]] = tmp\n",
    "    \n",
    "\n",
    "def fitness_tsp(ind):\n",
    "    dist = 0\n",
    "    for i in range(len(ind)):\n",
    "        dist += ciudades[ind[i-1]][ind[i]]\n",
    "    return -dist\n",
    "    \n",
    "\n",
    "def simple_ea(num_gens, npob, lambda_, px, pmut, pmg, elite):\n",
    "    poblacion = [np.random.permutation(N) for _ in range(npob)]\n",
    "    fitness = map(fitness_tsp, poblacion)\n",
    "    poblacion = list(zip(poblacion, fitness))\n",
    "    historico_fitness = []\n",
    "    fitness_medio = []\n",
    "    desviaciones = []\n",
    "    gen = 0\n",
    "    \n",
    "    historico_fitness.append(sorted(poblacion, key=lambda ind: ind[1], reverse=True)[0][1])\n",
    "    fitness_medio.append(statistics.mean([i[1] for i in poblacion]))\n",
    "    desviaciones.append(statistics.stdev([i[1] for i in poblacion]))\n",
    "    \n",
    "    while gen <= num_gens:\n",
    "        descendientes = []\n",
    "        for _ in range(lambda_):\n",
    "            # Seleccion de padres\n",
    "            padre1 = seleccion_torneo(poblacion)\n",
    "            padre2 = seleccion_torneo(poblacion)\n",
    "            # Generamos los descendientes (cruce)\n",
    "            if random() <= px:\n",
    "                hijo1, hijo2 = cxPartialyMatched(padre1, padre2)\n",
    "            else:\n",
    "                hijo1, hijo2 = padre1, padre2\n",
    "            # Sometemos a mutación a los descendientes\n",
    "            if random() <= pmut:\n",
    "                mutacion_maxones(hijo1, pmg)\n",
    "                mutacion_maxones(hijo2, pmg)\n",
    "            # Evaluamos los descendientes\n",
    "            hijo1 = (hijo1[0], fitness_tsp(hijo1[0]))\n",
    "            hijo2 = (hijo1[0], fitness_tsp(hijo1[0]))\n",
    "            # Añadimos los descendientes a nuestra subpoblación\n",
    "            descendientes.append(hijo1)\n",
    "            descendientes.append(hijo2)\n",
    "\n",
    "        # Seleccionamos los supervivientes\n",
    "        top, resto = seleccion_elitista(poblacion + descendientes, elite)\n",
    "        poblacion = top + sample(resto, npob - elite)\n",
    "        #poblacion = sample(poblacion + descendientes, npob)\n",
    "        \n",
    "        \n",
    "        # Guardar el mejor valor de fitness de la población\n",
    "        historico_fitness.append(top[0][1])\n",
    "        fitness_medio.append(statistics.mean([i[1] for i in poblacion]))\n",
    "        desviaciones.append(statistics.stdev([i[1] for i in poblacion]))\n",
    "        mejor_ind = top[0]\n",
    "        gen += 1\n",
    "    \n",
    "    return mejor_ind, poblacion, historico_fitness, fitness_medio, desviaciones\n",
    "\n",
    "best, pob, hist, medio, desv = simple_ea(num_gens=300, \n",
    "                                         npob=100, \n",
    "                                         lambda_=50, \n",
    "                                         px=0.8, \n",
    "                                         pmut=0.4, \n",
    "                                         pmg=1.0/N, \n",
    "                                         elite=1)\n",
    "\n",
    "print('El mejor fitness es ', best[1])\n",
    "print('Se han computado %d evaluaciones' % len(hist))\n",
    "\n",
    "resultados = pd.DataFrame({'gen': range(len(hist)), \n",
    "                           'media': medio,\n",
    "                           #'sd': desv,\n",
    "                           'mejor': hist\n",
    "                          })\n",
    "resultados = resultados.melt(id_vars=['gen'])\n",
    "alt.Chart(resultados).mark_line().encode(x='gen', y='value', color='variable')"
   ]
  },
  {
   "cell_type": "code",
   "execution_count": 0,
   "metadata": {
    "colab": {},
    "colab_type": "code",
    "id": "8ibmbgHB_RWQ"
   },
   "outputs": [],
   "source": [
    "permutations(range(4))"
   ]
  }
 ],
 "metadata": {
  "colab": {
   "collapsed_sections": [],
   "name": "2. Algoritmos Evolutivos.ipynb",
   "provenance": []
  },
  "kernelspec": {
   "display_name": "Python 3 (ipykernel)",
   "language": "python",
   "name": "python3"
  },
  "language_info": {
   "codemirror_mode": {
    "name": "ipython",
    "version": 3
   },
   "file_extension": ".py",
   "mimetype": "text/x-python",
   "name": "python",
   "nbconvert_exporter": "python",
   "pygments_lexer": "ipython3",
   "version": "3.10.6"
  }
 },
 "nbformat": 4,
 "nbformat_minor": 1
}
