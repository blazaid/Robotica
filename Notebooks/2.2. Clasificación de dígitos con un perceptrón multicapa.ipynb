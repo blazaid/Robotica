{
 "cells": [
  {
   "cell_type": "markdown",
   "metadata": {},
   "source": [
    "<div><img style=\"float: right; width: 120px; vertical-align:middle\" src=\"https://www.upm.es/sfs/Rectorado/Gabinete%20del%20Rector/Logos/EU_Informatica/ETSI%20SIST_INFORM_COLOR.png\" alt=\"ETSISI logo\" />\n",
    "\n",
    "\n",
    "# Clasificación de dígitos con un perceptrón multicapa<a id=\"top\"></a>\n",
    "\n",
    "<i><small>Autores: Alberto Díaz Álvarez y Guillermo Iglesias Hernández<br>Última actualización: 2023-09-28</small></i></div>\n",
    "                                                  \n",
    "\n",
    "***"
   ]
  },
  {
   "cell_type": "markdown",
   "metadata": {},
   "source": [
    "## Introducción"
   ]
  },
  {
   "cell_type": "markdown",
   "metadata": {},
   "source": [
    "La clasificación de imágenes es una de las tareas más fundamentales y desafiantes en el campo del aprendizaje automático y la visión por computador. El conjunto de datos MNIST (del inglés _Modified National Institute of Standards and Technology database_) es un gran conjunto de imágenes de dígitos manuscritos que ha servido como base para la investigación en reconocimiento de patrones y aprendizaje automático. Contiene 60.000 imágenes de entrenamiento y 10.000 imágenes de prueba, cada una de ellas de 28x28 píxeles en escala de grises, representando dígitos del 0 al 9.\n",
    "\n",
    "Dada la simplicidad relativa (en comparación con imágenes más complejas) y el tamaño del conjunto de datos MNIST, es un punto de partida ideal para cualquier persona que quiera comenzar a trabajar en el mundo del aprendizaje automático y la clasificación de imágenes. A pesar de que existen modelos más avanzados como las redes neuronales convolucionales que han demostrado un rendimiento excepcional en tareas similares, en esta ocasión, nos centraremos en el uso de un perceptrón multicapa (MLP, del inglés _Multilayer Perceptron_) para la tarea de clasificación.\n",
    "\n",
    "Un perceptrón multicapa es una red neuronal artificial _feedforward_ que consiste en al menos tres capas de nodos: una capa de entrada, una o más capas ocultas y una capa de salida. A pesar de su estructura simple en comparación con otros tipos de redes neuronales, los MLP son capaces de aprender y modelar funciones no lineales, lo que los hace adecuados para una variedad de tareas, incluida la clasificación de imágenes."
   ]
  },
  {
   "cell_type": "markdown",
   "metadata": {},
   "source": [
    "## Objetivos"
   ]
  },
  {
   "cell_type": "markdown",
   "metadata": {},
   "source": [
    "Vamos a por ello. En esta práctica tenemos los siguientes objetivos:\n",
    "\n",
    "1. **Descargar y explorar el conjunto de datos MNIST**: Antes de la creación del modelo, es esencial familiarizarnos con el conjunto de datos, entender su estructura y visualizar algunas de las imágenes contenidas en él.\n",
    "2. **Preprocesamiento de datos**: Transformación los datos en un formato adecuado para alimentar el modelo, lo que incluye la normalización y la codificación _one-hot_ de las etiquetas.\n",
    "3. **Construir un perceptrón multicapa**: Diseño y construcción de un MLP usando bibliotecas populares de aprendizaje profundo. Experimentar con diferentes estructuras y parámetros para encontrar un diseño óptimo.\n",
    "4. **Entrenamiento del modelo**: Utilizar el conjunto de entrenamiento de MNIST para entrenar nuestro perceptrón multicapa, monitorizando su rendimiento en el conjunto de validación para evitar el sobreajuste.\n",
    "5. **Evaluación del modelo**: Una vez entrenado, evaluar el rendimiento del MLP en el conjunto de prueba de MNIST para determinar su precisión y capacidad de generalización en datos no vistos.\n",
    "6. **Optimización (si es necesario)**: Basándonos en los resultados, realizar ajustes en el modelo o en el proceso de entrenamiento para mejorar el rendimiento.\n",
    "\n",
    "Al final de este notebook, esperamos tener un modelo de perceptrón multicapa que pueda clasificar con precisión los dígitos manuscritos del conjunto de datos MNIST y adquirir una comprensión sólida de los pasos involucrados en la construcción y entrenamiento de un MLP para tareas de clasificación."
   ]
  },
  {
   "cell_type": "markdown",
   "metadata": {
    "id": "ajlSB55Rro99"
   },
   "source": [
    "# Bibliotecas y configuración"
   ]
  },
  {
   "cell_type": "markdown",
   "metadata": {},
   "source": [
    "A continuación importaremos las bibliotecas que se utilizarán a lo largo del _notebook_."
   ]
  },
  {
   "cell_type": "code",
   "execution_count": 1,
   "metadata": {
    "id": "zUT_R0lqrnVN"
   },
   "outputs": [
    {
     "name": "stderr",
     "output_type": "stream",
     "text": [
      "2023-09-28 17:59:22.604719: I tensorflow/tsl/cuda/cudart_stub.cc:28] Could not find cuda drivers on your machine, GPU will not be used.\n",
      "2023-09-28 17:59:22.646530: E tensorflow/compiler/xla/stream_executor/cuda/cuda_dnn.cc:9342] Unable to register cuDNN factory: Attempting to register factory for plugin cuDNN when one has already been registered\n",
      "2023-09-28 17:59:22.646560: E tensorflow/compiler/xla/stream_executor/cuda/cuda_fft.cc:609] Unable to register cuFFT factory: Attempting to register factory for plugin cuFFT when one has already been registered\n",
      "2023-09-28 17:59:22.646584: E tensorflow/compiler/xla/stream_executor/cuda/cuda_blas.cc:1518] Unable to register cuBLAS factory: Attempting to register factory for plugin cuBLAS when one has already been registered\n",
      "2023-09-28 17:59:22.652735: I tensorflow/tsl/cuda/cudart_stub.cc:28] Could not find cuda drivers on your machine, GPU will not be used.\n",
      "2023-09-28 17:59:22.653155: I tensorflow/core/platform/cpu_feature_guard.cc:182] This TensorFlow binary is optimized to use available CPU instructions in performance-critical operations.\n",
      "To enable the following instructions: AVX2 FMA, in other operations, rebuild TensorFlow with the appropriate compiler flags.\n",
      "2023-09-28 17:59:25.326298: W tensorflow/compiler/tf2tensorrt/utils/py_utils.cc:38] TF-TRT Warning: Could not find TensorRT\n"
     ]
    }
   ],
   "source": [
    "import numpy as np\n",
    "\n",
    "from matplotlib import pyplot as plt\n",
    "# from sklearn.preprocessing import LabelBinarizer\n",
    "\n",
    "from tensorflow.keras.datasets import mnist\n",
    "from tensorflow.keras.models import Model\n",
    "from tensorflow.keras.layers import Input, Dense, Flatten\n",
    "from tensorflow.keras.utils import plot_model\n",
    "from tensorflow.keras.optimizers import Adam"
   ]
  },
  {
   "cell_type": "markdown",
   "metadata": {},
   "source": [
    "***"
   ]
  },
  {
   "cell_type": "code",
   "execution_count": null,
   "metadata": {},
   "outputs": [],
   "source": []
  },
  {
   "cell_type": "markdown",
   "metadata": {
    "id": "qHKBJBaXrwxO"
   },
   "source": [
    "# Load dataset\n",
    "\n",
    "Utilizaremos el conjunto de datos *mnist*, el cual consta de imágenes de 28x28 píxeles de dígitos del 0-9 manuscritos.\n",
    "\n",
    "Este dataset es probablemente el más común para hacer este tipo de pruebas sencillas, pues presenta un problema relativamente sencillo y fácil de estudiar.\n",
    "\n",
    "El dataset lo descargaremos usando la función *load_data()* de *keras*."
   ]
  },
  {
   "cell_type": "code",
   "execution_count": null,
   "metadata": {
    "colab": {
     "background_save": true,
     "base_uri": "https://localhost:8080/"
    },
    "executionInfo": {
     "elapsed": 12,
     "status": "ok",
     "timestamp": 1666288558568,
     "user": {
      "displayName": "Punto",
      "userId": "10186899819214684786"
     },
     "user_tz": -120
    },
    "id": "nWBBSYBYrvL2",
    "outputId": "821ba2be-ac72-4981-f90c-5f1fa9dad127"
   },
   "outputs": [
    {
     "name": "stdout",
     "output_type": "stream",
     "text": [
      "Downloading data from https://storage.googleapis.com/tensorflow/tf-keras-datasets/mnist.npz\n",
      "11490434/11490434 [==============================] - 1s 0us/step\n"
     ]
    }
   ],
   "source": [
    "# Rellenar para cargar el dataset usando la funcion load_data()\n",
    " (trainX, trainY), (testX, testY) ="
   ]
  },
  {
   "cell_type": "markdown",
   "metadata": {
    "id": "4R7iNguZp3kL"
   },
   "source": [
    "Originalmente los valores de los píxeles de las imágenes están en el rango [0, 255].\n",
    "\n",
    "Para ayudar al procesamiento de las redes de neuronas vamos a **normalizar** estos valores, pasándolos al rango [0, 1].\n",
    "\n",
    "Esto se consigue símplente dividiendo cada **numpy array** entre 255."
   ]
  },
  {
   "cell_type": "code",
   "execution_count": null,
   "metadata": {
    "id": "2k12SIpsp0cZ"
   },
   "outputs": [],
   "source": [
    "# Normalizar el dataset para que las imagenes esten en el rango [0, 1]"
   ]
  },
  {
   "cell_type": "markdown",
   "metadata": {
    "id": "QV2C48dyqRp-"
   },
   "source": [
    "Otra parte importante es preprocesar las etiquetas de los datos. Estas etiquetas son números del 0-9 que representan el número de cada imagen.\n",
    "\n",
    "Vamos a realizar lo que se conoce como un **One-hot encoding**. Esto consiste en pasar del valor numérico a un **vector binario** que represente el mismo valor, de la siguiente manera:\n",
    "\n",
    "* 0 = [1,0,0,0,0,0,0,0,0,0]\n",
    "* 1 = [0,1,0,0,0,0,0,0,0,0]\n",
    "* 2 = [0,0,1,0,0,0,0,0,0,0]\n",
    "* ...\n",
    "* 9 = [0,0,0,0,0,0,0,0,0,1]\n",
    "\n",
    "Para ello usamos la clase *LabelBinarizer* de sklearn."
   ]
  },
  {
   "cell_type": "code",
   "execution_count": null,
   "metadata": {
    "id": "LRB0UWI3p19l"
   },
   "outputs": [],
   "source": [
    "# Realizar el one-hot-encoding de los datos"
   ]
  },
  {
   "cell_type": "markdown",
   "metadata": {
    "id": "ywTOhu7Sq9c-"
   },
   "source": [
    "Ahora podemos observar el dataset"
   ]
  },
  {
   "cell_type": "code",
   "execution_count": null,
   "metadata": {
    "colab": {
     "background_save": true,
     "base_uri": "https://localhost:8080/"
    },
    "executionInfo": {
     "elapsed": 401,
     "status": "ok",
     "timestamp": 1666288779793,
     "user": {
      "displayName": "Punto",
      "userId": "10186899819214684786"
     },
     "user_tz": -120
    },
    "id": "7ESzm_yiqfd7",
    "outputId": "ea6caf87-5991-465e-e836-2ed130d025b2"
   },
   "outputs": [
    {
     "name": "stdout",
     "output_type": "stream",
     "text": [
      "Train X dataset shape:  (60000, 28, 28)\n",
      "Train y dataset shape:  (60000, 10)\n",
      "Test X dataset shape:  (10000, 28, 28)\n",
      "Test y dataset shape:  (10000, 10)\n"
     ]
    }
   ],
   "source": [
    "print(\"Train X dataset shape: \", np.shape(trainX))\n",
    "print(\"Train y dataset shape: \", np.shape(trainY))\n",
    "print(\"Test X dataset shape: \", np.shape(testX))\n",
    "print(\"Test y dataset shape: \", np.shape(testY))"
   ]
  },
  {
   "cell_type": "code",
   "execution_count": null,
   "metadata": {
    "colab": {
     "background_save": true
    },
    "id": "DUK4npS2mNnQ"
   },
   "outputs": [],
   "source": [
    "def show_examples(X, y_real, y_pred):\n",
    "    fig, ax = plt.subplots(1, 5, figsize=[25, 5])\n",
    "\n",
    "    for i, img in enumerate(X[:5]):\n",
    "        ax[i].imshow(img, cmap='Greys')\n",
    "        ax[i].set_title('y real: ' + str(y_real[i]) +\n",
    "                        '\\ny predicted: ' + str(y_pred[i]))\n",
    "    plt.show()"
   ]
  },
  {
   "cell_type": "code",
   "execution_count": null,
   "metadata": {
    "colab": {
     "background_save": true,
     "base_uri": "https://localhost:8080/",
     "height": 177
    },
    "executionInfo": {
     "elapsed": 856,
     "status": "ok",
     "timestamp": 1666288798135,
     "user": {
      "displayName": "Punto",
      "userId": "10186899819214684786"
     },
     "user_tz": -120
    },
    "id": "43a1LN6vo726",
    "outputId": "a92f8460-894c-40f5-cce8-9a232f9ea1c2"
   },
   "outputs": [
    {
     "data": {
      "image/png": "[encoded data removed]",
      "text/plain": [
       "<Figure size 2500x500 with 5 Axes>"
      ]
     },
     "metadata": {},
     "output_type": "display_data"
    }
   ],
   "source": [
    "show_examples(trainX, train_labels, train_labels)"
   ]
  },
  {
   "cell_type": "markdown",
   "metadata": {
    "id": "ZN0Oe5S-kulZ"
   },
   "source": [
    "# Model definition\n",
    "\n",
    "Creamos el modelo de red de neuronas. Para ello usaremos la **API funcional** de keras.\n",
    "\n",
    "De esta manera nuestro modelo comienza con una capa de **Input**, dicha capa se conecta con las posteriores a través de una variable (en este caso llamada x). Aquí es donde definimos las distintas capas:\n",
    "\n",
    "* **Flatten**: Para pasar de la imágen bidimensional a un vector unidimensional que pueda ser procesado por nuestro perceptrón.\n",
    "* **Dense**: Corresponde con las capas densas de nuestra red, formadas por el número de neuronas que se le indique como primer parámetro. Por otra parte se especifica la función de activación de cada capa.\n",
    "\n",
    "Por último, para crear el objeto del modelo de redes neuronales se usa la función **Model(*input, output*)**. Esta función devuelve la red de neuronas indicando la entrada y salida de la misma."
   ]
  },
  {
   "cell_type": "code",
   "execution_count": null,
   "metadata": {
    "colab": {
     "background_save": true
    },
    "id": "JA0gzRxikDeU"
   },
   "outputs": [],
   "source": [
    "# Definir una función para crear nuestro modelo de redes de neuronas simple\n",
    "\n",
    "def create_classifier():"
   ]
  },
  {
   "cell_type": "markdown",
   "metadata": {
    "id": "GAKAMYlwsEk8"
   },
   "source": [
    "El método *summary()* y la función *plot_model()* sirven para observar la red de neuronas creada."
   ]
  },
  {
   "cell_type": "code",
   "execution_count": null,
   "metadata": {
    "colab": {
     "background_save": true,
     "base_uri": "https://localhost:8080/"
    },
    "executionInfo": {
     "elapsed": 873,
     "status": "ok",
     "timestamp": 1666289902641,
     "user": {
      "displayName": "Punto",
      "userId": "10186899819214684786"
     },
     "user_tz": -120
    },
    "id": "PSyHKxv-ktzy",
    "outputId": "daafecf3-c364-47ee-e16c-052a1e971911"
   },
   "outputs": [
    {
     "name": "stdout",
     "output_type": "stream",
     "text": [
      "Model: \"model\"\n",
      "_________________________________________________________________\n",
      " Layer (type)                Output Shape              Param #   \n",
      "=================================================================\n",
      " input_1 (InputLayer)        [(None, 28, 28)]          0         \n",
      "                                                                 \n",
      " flatten (Flatten)           (None, 784)               0         \n",
      "                                                                 \n",
      " dense (Dense)               (None, 28)                21980     \n",
      "                                                                 \n",
      " dense_1 (Dense)             (None, 10)                290       \n",
      "                                                                 \n",
      "=================================================================\n",
      "Total params: 22,270\n",
      "Trainable params: 22,270\n",
      "Non-trainable params: 0\n",
      "_________________________________________________________________\n"
     ]
    }
   ],
   "source": [
    "model = create_classifier()\n",
    "model.summary()\n",
    "plot_model(model, show_shapes=True, show_layer_names=False)"
   ]
  },
  {
   "cell_type": "markdown",
   "metadata": {
    "id": "t4LUTAfUsN20"
   },
   "source": [
    "Compilamos con la función de pérdida deseada, en este caso *categorical_crossentropy* al ser una situación de clasificación multiclase"
   ]
  },
  {
   "cell_type": "code",
   "execution_count": null,
   "metadata": {
    "colab": {
     "background_save": true
    },
    "id": "bHVmWjpql5i6"
   },
   "outputs": [],
   "source": [
    "# Rellenar la función de pérdida correspondiente\n",
    "model.compile(loss=, metrics=['accuracy'])"
   ]
  },
  {
   "cell_type": "markdown",
   "metadata": {
    "id": "S65WKzIUlIDZ"
   },
   "source": [
    "# Train model\n",
    "\n",
    "Se entrena el modelo con los parámetros deseados, en este caso 20 epochs, con batch size de 128 imágenes."
   ]
  },
  {
   "cell_type": "code",
   "execution_count": null,
   "metadata": {
    "colab": {
     "base_uri": "https://localhost:8080/"
    },
    "executionInfo": {
     "elapsed": 41588,
     "status": "ok",
     "timestamp": 1666289947488,
     "user": {
      "displayName": "Punto",
      "userId": "10186899819214684786"
     },
     "user_tz": -120
    },
    "id": "qMdV9mRVlFTi",
    "outputId": "1ad894a6-4af1-4d94-e19b-6dfcc7e44d11"
   },
   "outputs": [
    {
     "name": "stdout",
     "output_type": "stream",
     "text": [
      "Epoch 1/20\n",
      "469/469 [==============================] - 2s 4ms/step - loss: 0.4805 - accuracy: 0.8741 - val_loss: 0.2777 - val_accuracy: 0.9224\n",
      "Epoch 2/20\n",
      "469/469 [==============================] - 2s 4ms/step - loss: 0.2547 - accuracy: 0.9291 - val_loss: 0.2233 - val_accuracy: 0.9380\n",
      "Epoch 3/20\n",
      "469/469 [==============================] - 2s 4ms/step - loss: 0.2135 - accuracy: 0.9401 - val_loss: 0.1983 - val_accuracy: 0.9443\n",
      "Epoch 4/20\n",
      "469/469 [==============================] - 2s 4ms/step - loss: 0.1872 - accuracy: 0.9473 - val_loss: 0.1793 - val_accuracy: 0.9499\n",
      "Epoch 5/20\n",
      "469/469 [==============================] - 2s 4ms/step - loss: 0.1682 - accuracy: 0.9521 - val_loss: 0.1675 - val_accuracy: 0.9523\n",
      "Epoch 6/20\n",
      "469/469 [==============================] - 2s 4ms/step - loss: 0.1540 - accuracy: 0.9564 - val_loss: 0.1592 - val_accuracy: 0.9542\n",
      "Epoch 7/20\n",
      "469/469 [==============================] - 2s 4ms/step - loss: 0.1426 - accuracy: 0.9599 - val_loss: 0.1522 - val_accuracy: 0.9566\n",
      "Epoch 8/20\n",
      "469/469 [==============================] - 2s 4ms/step - loss: 0.1329 - accuracy: 0.9629 - val_loss: 0.1490 - val_accuracy: 0.9579\n",
      "Epoch 9/20\n",
      "469/469 [==============================] - 2s 4ms/step - loss: 0.1250 - accuracy: 0.9646 - val_loss: 0.1433 - val_accuracy: 0.9596\n",
      "Epoch 10/20\n",
      "469/469 [==============================] - 2s 4ms/step - loss: 0.1184 - accuracy: 0.9665 - val_loss: 0.1381 - val_accuracy: 0.9593\n",
      "Epoch 11/20\n",
      "469/469 [==============================] - 2s 4ms/step - loss: 0.1128 - accuracy: 0.9675 - val_loss: 0.1317 - val_accuracy: 0.9625\n",
      "Epoch 12/20\n",
      "469/469 [==============================] - 2s 4ms/step - loss: 0.1073 - accuracy: 0.9693 - val_loss: 0.1351 - val_accuracy: 0.9620\n",
      "Epoch 13/20\n",
      "469/469 [==============================] - 2s 4ms/step - loss: 0.1031 - accuracy: 0.9705 - val_loss: 0.1294 - val_accuracy: 0.9627\n",
      "Epoch 14/20\n",
      "469/469 [==============================] - 2s 4ms/step - loss: 0.0994 - accuracy: 0.9718 - val_loss: 0.1389 - val_accuracy: 0.9609\n",
      "Epoch 15/20\n",
      "469/469 [==============================] - 2s 4ms/step - loss: 0.0955 - accuracy: 0.9726 - val_loss: 0.1296 - val_accuracy: 0.9619\n",
      "Epoch 16/20\n",
      "469/469 [==============================] - 2s 4ms/step - loss: 0.0920 - accuracy: 0.9735 - val_loss: 0.1264 - val_accuracy: 0.9639\n",
      "Epoch 17/20\n",
      "469/469 [==============================] - 2s 4ms/step - loss: 0.0895 - accuracy: 0.9739 - val_loss: 0.1248 - val_accuracy: 0.9644\n",
      "Epoch 18/20\n",
      "469/469 [==============================] - 2s 4ms/step - loss: 0.0868 - accuracy: 0.9751 - val_loss: 0.1289 - val_accuracy: 0.9632\n",
      "Epoch 19/20\n",
      "469/469 [==============================] - 2s 4ms/step - loss: 0.0847 - accuracy: 0.9756 - val_loss: 0.1262 - val_accuracy: 0.9633\n",
      "Epoch 20/20\n",
      "469/469 [==============================] - 2s 4ms/step - loss: 0.0825 - accuracy: 0.9764 - val_loss: 0.1251 - val_accuracy: 0.9647\n"
     ]
    }
   ],
   "source": [
    "# Rellenar la funcion fit con los parámetros necesarios\n",
    "history = model.fit(verbose=1)"
   ]
  },
  {
   "cell_type": "markdown",
   "metadata": {
    "id": "MwsT1JF1llS8"
   },
   "source": [
    "# Evaluate the model\n",
    "\n",
    "Mostramos la gráfica de pérdidas y métrica de accuracy de nuestro entrenamiento."
   ]
  },
  {
   "cell_type": "code",
   "execution_count": null,
   "metadata": {
    "id": "CDZEAocllU2Y"
   },
   "outputs": [],
   "source": [
    "def plot_losses(history):\n",
    "    plt.rcParams['figure.figsize'] = [20, 5]\n",
    "    f, (ax1, ax2) = plt.subplots(1, 2, sharex=True)\n",
    "\n",
    "    ax1.set_title('Losses')\n",
    "    ax1.set_xlabel('epoch')\n",
    "    ax1.legend(loc=\"upper right\")\n",
    "    ax1.grid()\n",
    "    ax1.plot(history['loss'], label='Training loss')\n",
    "    ax1.plot(history['val_loss'], label='Validation loss')\n",
    "    ax1.legend()\n",
    "\n",
    "    ax2.set_title('Accuracy')\n",
    "    ax2.set_xlabel('epoch')\n",
    "    ax2.legend(loc=\"upper right\")\n",
    "    ax2.grid()\n",
    "    ax2.plot(history['accuracy'], label='Training accuracy')\n",
    "    ax2.plot(history['val_accuracy'], label='Validation accuracy')\n",
    "    ax2.legend()\n",
    "\n",
    "    plt.show()"
   ]
  },
  {
   "cell_type": "code",
   "execution_count": null,
   "metadata": {
    "colab": {
     "base_uri": "https://localhost:8080/"
    },
    "executionInfo": {
     "elapsed": 881,
     "status": "ok",
     "timestamp": 1666289948348,
     "user": {
      "displayName": "Punto",
      "userId": "10186899819214684786"
     },
     "user_tz": -120
    },
    "id": "IZ3DGSXtlwrk",
    "outputId": "401cde44-45f2-4fcb-8493-55173892af7b"
   },
   "outputs": [
    {
     "name": "stderr",
     "output_type": "stream",
     "text": [
      "WARNING:matplotlib.legend:No handles with labels found to put in legend.\n",
      "WARNING:matplotlib.legend:No handles with labels found to put in legend.\n"
     ]
    },
    {
     "data": {
      "image/png": "[encoded data removed]",
      "text/plain": [
       "<Figure size 1440x360 with 2 Axes>"
      ]
     },
     "metadata": {},
     "output_type": "display_data"
    }
   ],
   "source": [
    "plot_losses(history.history)"
   ]
  },
  {
   "cell_type": "code",
   "execution_count": null,
   "metadata": {
    "colab": {
     "base_uri": "https://localhost:8080/"
    },
    "executionInfo": {
     "elapsed": 489,
     "status": "ok",
     "timestamp": 1661415745848,
     "user": {
      "displayName": "Punto",
      "userId": "10186899819214684786"
     },
     "user_tz": -120
    },
    "id": "yh7DvW-CriZs",
    "outputId": "ffa4862b-0376-4f9b-ee66-871980c346d5"
   },
   "outputs": [
    {
     "data": {
      "image/png": "[encoded data removed]",
      "text/plain": [
       "<Figure size 1800x360 with 5 Axes>"
      ]
     },
     "metadata": {},
     "output_type": "display_data"
    }
   ],
   "source": [
    "y_pred = model.predict(testX[:5]).argmax(axis=-1)\n",
    "\n",
    "show_examples(testX[:5], test_labels[:5], y_pred)"
   ]
  },
  {
   "cell_type": "markdown",
   "metadata": {
    "id": "UaneBW10p6JH"
   },
   "source": [
    "---\n",
    "\n",
    "Creado por **Guillermo Iglesias** (guillermo.iglesias@upm.es)\n",
    "\n",
    "<img src=\"https://licensebuttons.net/l/by-nc-sa/3.0/88x31.png\">"
   ]
  }
 ],
 "metadata": {
  "accelerator": "GPU",
  "colab": {
   "provenance": [
    {
     "file_id": "/v2/external/notebooks/gpu.ipynb",
     "timestamp": 1611939535453
    }
   ]
  },
  "gpuClass": "standard",
  "kernelspec": {
   "display_name": "Python 3 (ipykernel)",
   "language": "python",
   "name": "python3"
  },
  "language_info": {
   "codemirror_mode": {
    "name": "ipython",
    "version": 3
   },
   "file_extension": ".py",
   "mimetype": "text/x-python",
   "name": "python",
   "nbconvert_exporter": "python",
   "pygments_lexer": "ipython3",
   "version": "3.10.12"
  }
 },
 "nbformat": 4,
 "nbformat_minor": 4
}
