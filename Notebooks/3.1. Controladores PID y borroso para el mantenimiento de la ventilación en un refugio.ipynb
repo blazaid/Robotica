{
 "cells": [
  {
   "cell_type": "markdown",
   "metadata": {},
   "source": [
    "<div style=\"vertical-align:middle\">\n",
    "<img style=\"float: right; width: 170px;\" src=\"https://www.upm.es/sfs/Rectorado/Gabinete%20del%20Rector/Logos/EU_Informatica/ETSI%20SIST_INFORM_COLOR.png\" alt=\"ETSISI logo\" />\n",
    "<h1>Controladores PID y borroso para la ventilación en un refugio<a id=\"top\"></a></h1>\n",
    "<i><small>Fuentes: <a href=\"https://github.com/etsisi/Robotica\">github.com/etsisi/Robotica</a><br>Última actualización: 2023-10-16</i>\n",
    "</div>\n",
    "<hr>"
   ]
  },
  {
   "cell_type": "markdown",
   "metadata": {},
   "source": [
    "## Introducción"
   ]
  },
  {
   "cell_type": "markdown",
   "metadata": {},
   "source": [
    "En el vasto campo de la ingeniería de control, donde se buscan soluciones para mantener sistemas en equilibrio y funcionando a niveles óptimos, los controladores PID destacan como una de las herramientas más versátiles y ampliamente utilizadas. PID, que significa Proporcional (**P**), Integral (**I**) y Derivativo (**D**), hace referencia a los tres componentes clave que trabajan conjuntamente para corregir el error entre un valor medido y el valor deseado o _set point_. Estos controladores son usados para el mantenimiento de una amplia variedad de sistemas como motores, termostatos y otras maquinarias."
   ]
  },
  {
   "cell_type": "markdown",
   "metadata": {},
   "source": [
    "### Objetivos"
   ]
  },
  {
   "cell_type": "markdown",
   "metadata": {},
   "source": [
    "El propósito de este _notebook_ es proporcionar una breve introducción tutorial al control de lazo abierto y de lazo cerrado de un sistema simple de una sola entrada y una sola salida (SISO del inglés _Single I, Single Out_). Los objetivos a cubrir concretamente son:\n",
    "\n",
    "1. **Entender los componentes básicos** de un controlador PID: Proporcional, Integral y Derivativo.\n",
    "2. **Aprender cómo implementar** un controlador PID en Python.\n",
    "3. **Visualizar el comportamiento** del controlador en un escenario realista.\n",
    "\n",
    "Y no se nos ocurre un escenario más realista que el universo Fallout. ¡Comenzamos!"
   ]
  },
  {
   "cell_type": "markdown",
   "metadata": {},
   "source": [
    "## Bibliotecas y configuración"
   ]
  },
  {
   "cell_type": "markdown",
   "metadata": {},
   "source": [
    "Comenzaremos instalando las bibliotecas necesarias. Esto sólo es necesario en el caso de que no tengamos el entorno ya creado."
   ]
  },
  {
   "cell_type": "code",
   "execution_count": 1,
   "metadata": {},
   "outputs": [
    {
     "name": "stdout",
     "output_type": "stream",
     "text": [
      "Requirement already satisfied: matplotlib in /home/blazaid/.cache/pypoetry/virtualenvs/notebooks-WUQkwkS2-py3.10/lib/python3.10/site-packages (3.8.0)\n",
      "Requirement already satisfied: contourpy>=1.0.1 in /home/blazaid/.cache/pypoetry/virtualenvs/notebooks-WUQkwkS2-py3.10/lib/python3.10/site-packages (from matplotlib) (1.1.1)\n",
      "Requirement already satisfied: cycler>=0.10 in /home/blazaid/.cache/pypoetry/virtualenvs/notebooks-WUQkwkS2-py3.10/lib/python3.10/site-packages (from matplotlib) (0.12.0)\n",
      "Requirement already satisfied: fonttools>=4.22.0 in /home/blazaid/.cache/pypoetry/virtualenvs/notebooks-WUQkwkS2-py3.10/lib/python3.10/site-packages (from matplotlib) (4.43.0)\n",
      "Requirement already satisfied: kiwisolver>=1.0.1 in /home/blazaid/.cache/pypoetry/virtualenvs/notebooks-WUQkwkS2-py3.10/lib/python3.10/site-packages (from matplotlib) (1.4.5)\n",
      "Requirement already satisfied: numpy<2,>=1.21 in /home/blazaid/.cache/pypoetry/virtualenvs/notebooks-WUQkwkS2-py3.10/lib/python3.10/site-packages (from matplotlib) (1.26.0)\n",
      "Requirement already satisfied: packaging>=20.0 in /home/blazaid/.cache/pypoetry/virtualenvs/notebooks-WUQkwkS2-py3.10/lib/python3.10/site-packages (from matplotlib) (23.1)\n",
      "Requirement already satisfied: pillow>=6.2.0 in /home/blazaid/.cache/pypoetry/virtualenvs/notebooks-WUQkwkS2-py3.10/lib/python3.10/site-packages (from matplotlib) (10.0.1)\n",
      "Requirement already satisfied: pyparsing>=2.3.1 in /home/blazaid/.cache/pypoetry/virtualenvs/notebooks-WUQkwkS2-py3.10/lib/python3.10/site-packages (from matplotlib) (3.1.1)\n",
      "Requirement already satisfied: python-dateutil>=2.7 in /home/blazaid/.cache/pypoetry/virtualenvs/notebooks-WUQkwkS2-py3.10/lib/python3.10/site-packages (from matplotlib) (2.8.2)\n",
      "Requirement already satisfied: six>=1.5 in /home/blazaid/.cache/pypoetry/virtualenvs/notebooks-WUQkwkS2-py3.10/lib/python3.10/site-packages (from python-dateutil>=2.7->matplotlib) (1.16.0)\n",
      "\n",
      "\u001b[1m[\u001b[0m\u001b[34;49mnotice\u001b[0m\u001b[1;39;49m]\u001b[0m\u001b[39;49m A new release of pip is available: \u001b[0m\u001b[31;49m23.2.1\u001b[0m\u001b[39;49m -> \u001b[0m\u001b[32;49m23.3\u001b[0m\n",
      "\u001b[1m[\u001b[0m\u001b[34;49mnotice\u001b[0m\u001b[1;39;49m]\u001b[0m\u001b[39;49m To update, run: \u001b[0m\u001b[32;49mpip install --upgrade pip\u001b[0m\n",
      "Requirement already satisfied: numpy in /home/blazaid/.cache/pypoetry/virtualenvs/notebooks-WUQkwkS2-py3.10/lib/python3.10/site-packages (1.26.0)\n",
      "\n",
      "\u001b[1m[\u001b[0m\u001b[34;49mnotice\u001b[0m\u001b[1;39;49m]\u001b[0m\u001b[39;49m A new release of pip is available: \u001b[0m\u001b[31;49m23.2.1\u001b[0m\u001b[39;49m -> \u001b[0m\u001b[32;49m23.3\u001b[0m\n",
      "\u001b[1m[\u001b[0m\u001b[34;49mnotice\u001b[0m\u001b[1;39;49m]\u001b[0m\u001b[39;49m To update, run: \u001b[0m\u001b[32;49mpip install --upgrade pip\u001b[0m\n"
     ]
    }
   ],
   "source": [
    "!pip install matplotlib\n",
    "!pip install numpy"
   ]
  },
  {
   "cell_type": "markdown",
   "metadata": {},
   "source": [
    "A continuación importaremos las bibliotecas que se utilizarán a lo largo del notebook."
   ]
  },
  {
   "cell_type": "code",
   "execution_count": 2,
   "metadata": {},
   "outputs": [],
   "source": [
    "import random\n",
    "\n",
    "import matplotlib.pyplot as plt\n",
    "import numpy as np"
   ]
  },
  {
   "cell_type": "markdown",
   "metadata": {},
   "source": [
    "Forzamos algunos parámetros de configuración"
   ]
  },
  {
   "cell_type": "code",
   "execution_count": 3,
   "metadata": {},
   "outputs": [],
   "source": [
    "random.seed(42)\n",
    "\n",
    "%matplotlib inline\n",
    "plt.style.use('ggplot')\n",
    "plt.rcParams.update({'figure.figsize': (20, 6),'figure.dpi': 64})"
   ]
  },
  {
   "cell_type": "markdown",
   "metadata": {},
   "source": [
    "***"
   ]
  },
  {
   "cell_type": "markdown",
   "metadata": {},
   "source": [
    "## Descripción del problema"
   ]
  },
  {
   "cell_type": "markdown",
   "metadata": {},
   "source": [
    "Dentro del complejo laberinto de pasadizos, estancias y sistemas que conforman el refugio, uno de los retos más significativos es asegurar la supervivencia de sus ocupantes en un mundo que ha sido drásticamente transformado por la guerra nuclear. Una preocupación principal es la calidad del aire dentro del refugio. En el exterior, las persistentes tormentas que asolan el planeta dispersan toxinas por todo el territorio conocido. Aunque el interior está protegido, no está completamente aislado de estos impactos. Después de todo, todos necesitamos respirar y el suministro de oxígeno no es infinito.\n",
    "\n",
    "He sido nombrado el ingeniero principal del refugio, y se me ha encomendado la tarea crucial de asegurar que el nivel de oxígeno se mantenga en un rango estable, por ejemplo, un $80\\%$. Un nivel excesivo de oxígeno es peligroso ya que el oxígeno es inflamable. Además, debemos facilitar una evolución artificial en nuestros cuerpos, ya que el dilema de la radiación no tiene una solución inmediata o a mediano plazo. Pero, por supuesto, un nivel insuficiente de oxígeno impedirá nuestra supervivencia, lo cual es contraproducente si nuestro objetivo es perseverar.\n",
    "\n",
    "Para abordar esto de manera efectiva, implementaremos un controlador PID que monitoreará y ajustará los niveles de oxígeno y toxinas en el refugio. Cuando el controlador lo determine, se activarán los ventiladores permitiendo el ingreso de aire exterior para renovar el ambiente interior. Esperamos que, de esta manera, el nivel de oxígeno se mantenga estable, permitiéndonos enfocarnos en resolver otros problemas que enfrentamos."
   ]
  },
  {
   "cell_type": "code",
   "execution_count": 4,
   "metadata": {},
   "outputs": [],
   "source": [
    "TARGET_O2 = 80  # Porcentaje de O₂ objetivo"
   ]
  },
  {
   "cell_type": "markdown",
   "metadata": {},
   "source": [
    "### Simulación del sistema a controlar"
   ]
  },
  {
   "cell_type": "markdown",
   "metadata": {},
   "source": [
    "La clase `Vault` encapsula la representación de un refugio post-apocalíptico, diseñado para mantener un ambiente habitable en un mundo externo devastado. Esta clase se identifica por un ID único, y mantiene un seguimiento de los niveles de oxígeno y toxinas dentro del refugio. La metodología de la clase incluye funciones para medir la calidad del aire exterior, actualizar la ventilación en función de una señal de control, y obtener el estado actual de los niveles de oxígeno y toxinas dentro del refugio. La función measure simula la medición de la calidad del aire exterior generando un valor aleatorio, mientras que la función update ajusta los niveles internos de oxígeno y toxinas en función de la acción del ventilador, que es controlada por una señal de control externa. Por último, la función get_status proporciona una vista actual de los niveles de oxígeno y toxinas dentro del refugio. Esta estructura de clase proporciona una base sólida para simular y controlar el ambiente interno de un refugio en un escenario post-apocalíptico, permitiendo la interacción con controladores externos, como un controlador PID, para mantener condiciones habitables dentro del refugio."
   ]
  },
  {
   "cell_type": "code",
   "execution_count": 5,
   "metadata": {},
   "outputs": [],
   "source": [
    "class Vault:\n",
    "    def __init__(self, id):\n",
    "        self.id = id\n",
    "        self.o2_level = 80.0  # Porcentaje de oxígeno en el interior\n",
    "\n",
    "    def measure(self):\n",
    "        \"\"\"Simula la medición del ambiente externo.\n",
    "\n",
    "        :return: Un valor de 0 a 100 indicando el nivel de oxigeno en el\n",
    "            exterior\n",
    "        \"\"\"\n",
    "        # Lo simulamos con un valor aleatorio de entre 0 y 100. Sí, el\n",
    "        # ambiente exterior es muy peligroso\n",
    "        return random.uniform(0, 100)\n",
    "\n",
    "    def update(self, fan):\n",
    "        \"\"\"Simula el efecto de la ventilación.\n",
    "\n",
    "        Si se activa el ventilador el oxígeno se renovará con una parte\n",
    "        del oxígeno exterior. Si no, se simulará una degradación del\n",
    "        ambiente interior.\n",
    "\n",
    "        :param fan: Un valor numérico positivo si se ha de activar el\n",
    "            ventilador o negativo si no.\n",
    "        \"\"\"\n",
    "        if fan > 0:\n",
    "            # Se activa el ventilador. Renovamos el aire del interior\n",
    "            external_air_quality = self.measure()\n",
    "            self.o2_level = min(self.o2_level + external_air_quality * 0.1, 100)\n",
    "        else:\n",
    "            # No se activa el ventilador. El ambiente se degrada\n",
    "            self.o2_level = max(self.o2_level - 5, 0)\n",
    "\n",
    "    def get_status(self):\n",
    "        \"\"\"Devuelve el estado actual de oxígeno.\"\"\"\n",
    "        return self.o2_level\n"
   ]
  },
  {
   "cell_type": "markdown",
   "metadata": {},
   "source": [
    "### Controlador del sistema"
   ]
  },
  {
   "cell_type": "markdown",
   "metadata": {},
   "source": [
    "La clase `PID` encapsula el controlador que intentará mantener el oxígeno dentro de un rango óptimo. Esta clase se usará para ajustar una variable de entrada, en este caso, la activación del ventilador, basándose en la diferencia entre el valor deseado y el valor actual de oxígeno, además de las tasas de cambio y acumulación de esta diferencia."
   ]
  },
  {
   "cell_type": "code",
   "execution_count": 6,
   "metadata": {},
   "outputs": [],
   "source": [
    "class PID:\n",
    "    def __init__(self, kp=1, ki=0.1, kd=0.01):\n",
    "        self.kp = kp\n",
    "        self.ki = ki\n",
    "        self.kd = kd\n",
    "        self.prev_error = 0\n",
    "        self.sum_error = 0\n",
    "\n",
    "    def __call__(self, set_point, measured_value):\n",
    "        error = set_point - measured_value\n",
    "        self.sum_error += error\n",
    "        d_error = error - self.prev_error\n",
    "        output = self.kp * error + self.ki * self.sum_error + self.kd * d_error\n",
    "        self.prev_error = error\n",
    "        return output"
   ]
  },
  {
   "cell_type": "code",
   "execution_count": null,
   "metadata": {},
   "outputs": [],
   "source": []
  },
  {
   "cell_type": "code",
   "execution_count": 7,
   "metadata": {},
   "outputs": [
    {
     "data": {
      "image/png": "[encoded data removed]",
      "text/plain": [
       "<Figure size 1280x384 with 1 Axes>"
      ]
     },
     "metadata": {},
     "output_type": "display_data"
    }
   ],
   "source": [
    "vault = Vault(101)\n",
    "controller = PID(1.0, 0.1, 0.01)\n",
    "\n",
    "o2_levels = []\n",
    "actions = []\n",
    "for i in range(100):  # 100 steps de tiempo\n",
    "    o2_level = vault.get_status()\n",
    "    action = controller(TARGET_O2, o2_level)\n",
    "    vault.update(action)\n",
    "\n",
    "    o2_levels.append(o2_level)\n",
    "    actions.append(action)\n",
    "\n",
    "plt.plot(o2_levels, label='Radiación en $t$')\n",
    "plt.plot(actions, label='Corrección aplicada', linestyle='--')\n",
    "plt.legend()\n",
    "plt.show()"
   ]
  },
  {
   "cell_type": "markdown",
   "metadata": {},
   "source": [
    "## Control borroso del sistema"
   ]
  },
  {
   "cell_type": "code",
   "execution_count": null,
   "metadata": {},
   "outputs": [],
   "source": []
  },
  {
   "cell_type": "markdown",
   "metadata": {},
   "source": [
    "## Conclusiones"
   ]
  },
  {
   "cell_type": "markdown",
   "metadata": {},
   "source": [
    "Los controladores PID, con su capacidad para responder y adaptarse a las variaciones y perturbaciones de un sistema, demuestran ser herramientas imprescindibles en muchos campos de la ingeniería. En nuestro ejemplo, la supervivencia de los habitantes del refugio dependía directamente de la eficacia del controlador. Aunque es una representación ficticia, subraya la relevancia y el impacto potencial de estas herramientas en situaciones críticas. Podemos destacar:\n",
    "\n",
    "1. **Importancia del Control**: En un ambiente tan hostil y cambiante, tener herramientas que permitan un ajuste constante y preciso es vital. El controlador PID emerge como una solución robusta para garantizar que variables críticas, como los niveles de radiación en el agua, permanezcan dentro de límites seguros.\n",
    "2. **Dinámica de los Componentes PID**: Cada componente del PID tiene un papel fundamental en el comportamiento del controlador:\n",
    "    - El componente Proporcional actúa directamente en función del error presente, proporcionando una respuesta inmediata.\n",
    "    - El componente Integral asegura que los errores persistentes y acumulados se corrijan a lo largo del tiempo, evitando desviaciones sistemáticas.\n",
    "    - El componente Derivativo anticipa el comportamiento futuro del error, contribuyendo a una corrección más suave y evitando oscilaciones.\n",
    "4. **Aplicabilidad Generalizada**: Aunque este ejemplo se centró en el escenario de Fallout, los principios subyacentes de los controladores PID son aplicables en una amplia variedad de situaciones y disciplinas, desde sistemas de climatización en edificios hasta regulación de velocidad en vehículos.\n",
    "5. **Aprendizaje Continuo**: Es esencial entender que, si bien un controlador PID es potente, su eficacia depende en gran medida de su sintonización adecuada. La elección correcta de los parámetros $Kp$​, $Ki$​, y $Kd$​ puede variar según el sistema y las condiciones operativas. Experimentar y aprender de los resultados es una parte intrínseca de la ingeniería de control."
   ]
  },
  {
   "cell_type": "markdown",
   "metadata": {
    "id": "UaneBW10p6JH"
   },
   "source": [
    "***\n",
    "\n",
    "<div><img style=\"float: right; width: 120px; vertical-align:top\" src=\"https://mirrors.creativecommons.org/presskit/buttons/88x31/png/by-nc-sa.png\" alt=\"Creative Commons by-nc-sa logo\" />\n",
    "\n",
    "[Volver al inicio](#top)\n",
    "\n",
    "</div>"
   ]
  },
  {
   "cell_type": "code",
   "execution_count": null,
   "metadata": {},
   "outputs": [],
   "source": []
  }
 ],
 "metadata": {
  "accelerator": "GPU",
  "colab": {
   "provenance": [
    {
     "file_id": "/v2/external/notebooks/gpu.ipynb",
     "timestamp": 1611939535453
    }
   ]
  },
  "gpuClass": "standard",
  "kernelspec": {
   "display_name": "Python 3 (ipykernel)",
   "language": "python",
   "name": "python3"
  },
  "language_info": {
   "codemirror_mode": {
    "name": "ipython",
    "version": 3
   },
   "file_extension": ".py",
   "mimetype": "text/x-python",
   "name": "python",
   "nbconvert_exporter": "python",
   "pygments_lexer": "ipython3",
   "version": "3.10.12"
  }
 },
 "nbformat": 4,
 "nbformat_minor": 4
}
