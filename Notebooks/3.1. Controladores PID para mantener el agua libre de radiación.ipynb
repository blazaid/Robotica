{
 "cells": [
  {
   "cell_type": "markdown",
   "metadata": {},
   "source": [
    "<div><img width=\"120px\" style=\"float: right; width: 120px; vertical-align:middle\" src=\"https://www.upm.es/sfs/Rectorado/Gabinete%20del%20Rector/Logos/EU_Informatica/ETSI%20SIST_INFORM_COLOR.png\" alt=\"ETSISI logo\" />\n",
    "\n",
    "\n",
    "# Controladores PID para mantener el agua libre de radiación<a id=\"top\"></a>\n",
    "\n",
    "<i><small>Autores: Alberto Díaz Álvarez y Guillermo Iglesias Hernández<br>Última actualización: 2023-10-16</small></i></div>\n",
    "\n",
    "***"
   ]
  },
  {
   "cell_type": "markdown",
   "metadata": {},
   "source": [
    "## Introducción"
   ]
  },
  {
   "cell_type": "markdown",
   "metadata": {},
   "source": [
    "En el vasto campo de la ingeniería de control, donde se buscan soluciones para mantener sistemas en equilibrio y funcionando a niveles óptimos, los controladores PID destacan como una de las herramientas más versátiles y ampliamente utilizadas. PID, que significa Proporcional (**P**), Integral (**I**) y Derivativo (**D**), hace referencia a los tres componentes clave que trabajan conjuntamente para corregir el error entre un valor medido y el valor deseado o _set point_. Estos controladores son usados para el mantenimiento de una amplia variedad de sistemas como motores, termostatos y otras maquinarias."
   ]
  },
  {
   "cell_type": "markdown",
   "metadata": {},
   "source": [
    "### Objetivos"
   ]
  },
  {
   "cell_type": "markdown",
   "metadata": {},
   "source": [
    "Los objetivos a cubrir en este notebook son los siguientes:\n",
    "\n",
    "1. **Entender los componentes básicos** de un controlador PID: Proporcional, Integral y Derivativo.\n",
    "2. **Aprender cómo implementar** un controlador PID en Python.\n",
    "3. **Visualizar el comportamiento** del controlador en un escenario realista.\n",
    "\n",
    "Y no se nos ocurre un escenario más realista que el universo Fallout. ¡Comenzamos!"
   ]
  },
  {
   "cell_type": "markdown",
   "metadata": {},
   "source": [
    "## Bibliotecas y configuración"
   ]
  },
  {
   "cell_type": "markdown",
   "metadata": {},
   "source": [
    "Comenzaremos instalando las bibliotecas necesarias. Esto sólo es necesario en el caso de que no tengamos el entorno ya creado."
   ]
  },
  {
   "cell_type": "code",
   "execution_count": 11,
   "metadata": {},
   "outputs": [
    {
     "name": "stdout",
     "output_type": "stream",
     "text": [
      "Requirement already satisfied: matplotlib in /home/blazaid/.cache/pypoetry/virtualenvs/notebooks-WUQkwkS2-py3.10/lib/python3.10/site-packages (3.8.0)\n",
      "Requirement already satisfied: contourpy>=1.0.1 in /home/blazaid/.cache/pypoetry/virtualenvs/notebooks-WUQkwkS2-py3.10/lib/python3.10/site-packages (from matplotlib) (1.1.1)\n",
      "Requirement already satisfied: cycler>=0.10 in /home/blazaid/.cache/pypoetry/virtualenvs/notebooks-WUQkwkS2-py3.10/lib/python3.10/site-packages (from matplotlib) (0.12.0)\n",
      "Requirement already satisfied: fonttools>=4.22.0 in /home/blazaid/.cache/pypoetry/virtualenvs/notebooks-WUQkwkS2-py3.10/lib/python3.10/site-packages (from matplotlib) (4.43.0)\n",
      "Requirement already satisfied: kiwisolver>=1.0.1 in /home/blazaid/.cache/pypoetry/virtualenvs/notebooks-WUQkwkS2-py3.10/lib/python3.10/site-packages (from matplotlib) (1.4.5)\n",
      "Requirement already satisfied: numpy<2,>=1.21 in /home/blazaid/.cache/pypoetry/virtualenvs/notebooks-WUQkwkS2-py3.10/lib/python3.10/site-packages (from matplotlib) (1.26.0)\n",
      "Requirement already satisfied: packaging>=20.0 in /home/blazaid/.cache/pypoetry/virtualenvs/notebooks-WUQkwkS2-py3.10/lib/python3.10/site-packages (from matplotlib) (23.1)\n",
      "Requirement already satisfied: pillow>=6.2.0 in /home/blazaid/.cache/pypoetry/virtualenvs/notebooks-WUQkwkS2-py3.10/lib/python3.10/site-packages (from matplotlib) (10.0.1)\n",
      "Requirement already satisfied: pyparsing>=2.3.1 in /home/blazaid/.cache/pypoetry/virtualenvs/notebooks-WUQkwkS2-py3.10/lib/python3.10/site-packages (from matplotlib) (3.1.1)\n",
      "Requirement already satisfied: python-dateutil>=2.7 in /home/blazaid/.cache/pypoetry/virtualenvs/notebooks-WUQkwkS2-py3.10/lib/python3.10/site-packages (from matplotlib) (2.8.2)\n",
      "Requirement already satisfied: six>=1.5 in /home/blazaid/.cache/pypoetry/virtualenvs/notebooks-WUQkwkS2-py3.10/lib/python3.10/site-packages (from python-dateutil>=2.7->matplotlib) (1.16.0)\n",
      "\n",
      "\u001b[1m[\u001b[0m\u001b[34;49mnotice\u001b[0m\u001b[1;39;49m]\u001b[0m\u001b[39;49m A new release of pip is available: \u001b[0m\u001b[31;49m23.2.1\u001b[0m\u001b[39;49m -> \u001b[0m\u001b[32;49m23.3\u001b[0m\n",
      "\u001b[1m[\u001b[0m\u001b[34;49mnotice\u001b[0m\u001b[1;39;49m]\u001b[0m\u001b[39;49m To update, run: \u001b[0m\u001b[32;49mpip install --upgrade pip\u001b[0m\n",
      "Requirement already satisfied: numpy in /home/blazaid/.cache/pypoetry/virtualenvs/notebooks-WUQkwkS2-py3.10/lib/python3.10/site-packages (1.26.0)\n",
      "\n",
      "\u001b[1m[\u001b[0m\u001b[34;49mnotice\u001b[0m\u001b[1;39;49m]\u001b[0m\u001b[39;49m A new release of pip is available: \u001b[0m\u001b[31;49m23.2.1\u001b[0m\u001b[39;49m -> \u001b[0m\u001b[32;49m23.3\u001b[0m\n",
      "\u001b[1m[\u001b[0m\u001b[34;49mnotice\u001b[0m\u001b[1;39;49m]\u001b[0m\u001b[39;49m To update, run: \u001b[0m\u001b[32;49mpip install --upgrade pip\u001b[0m\n"
     ]
    }
   ],
   "source": [
    "!pip install matplotlib\n",
    "!pip install numpy"
   ]
  },
  {
   "cell_type": "markdown",
   "metadata": {},
   "source": [
    "A continuación importaremos las bibliotecas que se utilizarán a lo largo del notebook."
   ]
  },
  {
   "cell_type": "code",
   "execution_count": 12,
   "metadata": {},
   "outputs": [],
   "source": [
    "import matplotlib.pyplot as plt\n",
    "import numpy as np"
   ]
  },
  {
   "cell_type": "markdown",
   "metadata": {},
   "source": [
    "Forzamos algunos parámetros de configuración"
   ]
  },
  {
   "cell_type": "code",
   "execution_count": 3,
   "metadata": {},
   "outputs": [],
   "source": [
    "%matplotlib inline\n",
    "plt.style.use('ggplot')\n",
    "plt.rcParams.update({'figure.figsize': (20, 6),'figure.dpi': 64})"
   ]
  },
  {
   "cell_type": "markdown",
   "metadata": {},
   "source": [
    "***"
   ]
  },
  {
   "cell_type": "markdown",
   "metadata": {},
   "source": [
    "## Descripción del problema"
   ]
  },
  {
   "cell_type": "markdown",
   "metadata": {},
   "source": [
    "Dentro del intrincado laberinto de corredores, salas y sistemas del refugio, uno de los desafíos más grandes es garantizar la supervivencia de sus habitantes en un mundo que ha sido profundamente alterado por la guerra nuclear. Una de las principales preocupaciones es el agua. En el exterior, la mayoría de las fuentes de agua están contaminadas con altos niveles de radiación, convirtiéndolas en un peligro mortal para cualquiera que las consuma.\n",
    "\n",
    "Hemos sido designados ingeniero principal del refugio, y se nos confía la tarea esencial de garantizar un suministro constante de agua limpia y segura para todos. Afortunadamente, contamos con una herramienta avanzada: el «Purificador PID Vault-Tec». Este no es un purificador de agua ordinario. Ha sido diseñado con una tecnología de vanguardia que permite monitorizar y ajustar continuamente la calidad del agua, especialmente su nivel de radiación.\n",
    "\n",
    "Para hacerlo efectivo, el purificador utiliza un controlador PID. Esta herramienta, aunque suene técnica y complicada, es esencialmente un sistema que trabaja incansablemente para corregir cualquier desviación del nivel ideal de radiación del agua (que es 0 rads). Y es nuestra tarea asegurarnos de que este controlador esté bien calibrado y funcione a la perfección, para que cada gota de agua que llegue a los habitantes del refugio sea pura y segura."
   ]
  },
  {
   "cell_type": "markdown",
   "metadata": {},
   "source": [
    "## Desarrollo"
   ]
  },
  {
   "cell_type": "markdown",
   "metadata": {},
   "source": [
    "Un controlador PID trabaja constantemente para reducir el error entre un valor deseado (o setpoint) y el valor actualmente medido. Lo hace ajustando su salida en función de tres componentes: Proporcional, Integral y Derivativo."
   ]
  },
  {
   "cell_type": "code",
   "execution_count": 4,
   "metadata": {},
   "outputs": [],
   "source": [
    "class PIDController:\n",
    "    def __init__(self, kp=1, ki=0.1, kd=0.01):\n",
    "        self.kp = kp\n",
    "        self.ki = ki\n",
    "        self.kd = kd\n",
    "        self.prev_error = 0\n",
    "        self.integral = 0\n",
    "\n",
    "    def __call__(self, set_point, measured_value):\n",
    "        error = set_point - measured_value\n",
    "        self.integral += error\n",
    "        derivative = error - self.prev_error\n",
    "        output = self.kp * error + self.ki * self.integral + self.kd * derivative\n",
    "        self.prev_error = error\n",
    "        return output"
   ]
  },
  {
   "cell_type": "markdown",
   "metadata": {},
   "source": [
    "La implementación es muy sencilla. El controlador se crea con unas ganancia por cada componente. A la hora de calcular el error estas ganancias se aplicarán a los errores calculados en ese _step_ de tiempo:\n",
    "\n",
    "- `error`: El error en ese preciso instante.\n",
    "- `integral`: La suma de cada uno de los errores en cada _step_ de tiempo.\n",
    "- `derivative`: La diferencia entre el error anterior y el actual."
   ]
  },
  {
   "cell_type": "markdown",
   "metadata": {},
   "source": [
    "## Ejemplo de uso"
   ]
  },
  {
   "cell_type": "markdown",
   "metadata": {},
   "source": [
    "Comenzaremos estableciendo el nivel deseado de radiación como valor objetivo para nuestro ejemplo."
   ]
  },
  {
   "cell_type": "code",
   "execution_count": 5,
   "metadata": {},
   "outputs": [],
   "source": [
    "set_point = 0"
   ]
  },
  {
   "cell_type": "markdown",
   "metadata": {},
   "source": [
    "Vamos a crear un controlador que se encargará de controlar que el nivel de radiación se mantiene estable."
   ]
  },
  {
   "cell_type": "code",
   "execution_count": 6,
   "metadata": {},
   "outputs": [],
   "source": [
    "controller = PIDController()"
   ]
  },
  {
   "cell_type": "markdown",
   "metadata": {},
   "source": [
    "Ahora imaginemos que, tras 10 segundos de agua pura hay un aumento repentino durante 10 segundos en la radiación que contiene. Lo representaremos como una lista con los valores de la serie temporal en cada instante de tiempo."
   ]
  },
  {
   "cell_type": "code",
   "execution_count": 7,
   "metadata": {},
   "outputs": [
    {
     "name": "stdout",
     "output_type": "stream",
     "text": [
      "Niveles de radiación: [0, 0, 0, 0, 0, 0, 0, 0, 0, 0, 10, 10, 10, 10, 10, 10, 10, 10, 10, 10]\n"
     ]
    }
   ],
   "source": [
    "rad_levels = [0] * 10 + [10] * 10\n",
    "print(f'Niveles de radiación: {rad_levels}')"
   ]
  },
  {
   "cell_type": "markdown",
   "metadata": {},
   "source": [
    "Veamos cómo reacciona nuestro controlador ante esto."
   ]
  },
  {
   "cell_type": "code",
   "execution_count": 8,
   "metadata": {},
   "outputs": [
    {
     "name": "stdout",
     "output_type": "stream",
     "text": [
      "Simulando un aumento repentino en la radiación...\n",
      "\n",
      "Tiempo(s)\tRadiación(rads)\tSalida del Purificador\n",
      "0\t\t0\t\t\t0.00\n",
      "1\t\t0\t\t\t0.00\n",
      "2\t\t0\t\t\t0.00\n",
      "3\t\t0\t\t\t0.00\n",
      "4\t\t0\t\t\t0.00\n",
      "5\t\t0\t\t\t0.00\n",
      "6\t\t0\t\t\t0.00\n",
      "7\t\t0\t\t\t0.00\n",
      "8\t\t0\t\t\t0.00\n",
      "9\t\t0\t\t\t0.00\n",
      "10\t\t10\t\t\t-11.10\n",
      "11\t\t10\t\t\t-12.00\n",
      "12\t\t10\t\t\t-13.00\n",
      "13\t\t10\t\t\t-14.00\n",
      "14\t\t10\t\t\t-15.00\n",
      "15\t\t10\t\t\t-16.00\n",
      "16\t\t10\t\t\t-17.00\n",
      "17\t\t10\t\t\t-18.00\n",
      "18\t\t10\t\t\t-19.00\n",
      "19\t\t10\t\t\t-20.00\n"
     ]
    },
    {
     "data": {
      "image/png": "[encoded data removed]",
      "text/plain": [
       "<Figure size 1280x384 with 1 Axes>"
      ]
     },
     "metadata": {},
     "output_type": "display_data"
    }
   ],
   "source": [
    "outputs = []\n",
    "\n",
    "print(\"Simulando un aumento repentino en la radiación...\\n\")\n",
    "print(\"Tiempo(s)\\tRadiación(rads)\\tSalida del Purificador\")\n",
    "\n",
    "for t, r in enumerate(rad_levels):\n",
    "    output = controller(set_point, r)\n",
    "    outputs.append(output)\n",
    "    print(f\"{t}\\t\\t{r}\\t\\t\\t{output:.2f}\")\n",
    "\n",
    "plt.plot(rad_levels, label='Radiation Levels')\n",
    "plt.plot(outputs, label='Purifier Output')\n",
    "plt.legend()\n",
    "plt.show()"
   ]
  },
  {
   "cell_type": "markdown",
   "metadata": {},
   "source": [
    "Este sistema es un ejemplo de sistema de lazo abierto, ya que la salida del controlador afecta al sistema. Supongamos el el sistema es de lazo cerrado (en este caso, la corrección realizada por el purificador), esto es, que la salida del controlador afecta directamente al sistema (los inveles de radiación), y que por lo tanto la respuesta del sistema (los niveles corregidos de radiación) se retroalimenta de nuevo al controlador. Veamos cómo se comportaría en este escenario.\n",
    "\n",
    "Para ello, vamos a hacer que los niveles de radiación se vean incrementados en un par de momentos para ver cómo se estabiliza el sistema."
   ]
  },
  {
   "cell_type": "code",
   "execution_count": 9,
   "metadata": {},
   "outputs": [
    {
     "name": "stdout",
     "output_type": "stream",
     "text": [
      "Niveles de radiación: [0, 10, 0, 0, 0, 0, 0, 0, 0, 0, 0, 0, 5, 0, 0, 0, 0, 0, 0, 0, 0, 0, 0]\n"
     ]
    }
   ],
   "source": [
    "rad_levels = [0] + [10] + [0] * 10 + [5] + [0] * 10\n",
    "print(f'Niveles de radiación: {rad_levels}')"
   ]
  },
  {
   "cell_type": "markdown",
   "metadata": {},
   "source": [
    "Con esto crearemos nuestro controador, que trabajará para llevar de nuevo el sistema al valor objetivo deseado."
   ]
  },
  {
   "cell_type": "code",
   "execution_count": 10,
   "metadata": {},
   "outputs": [
    {
     "name": "stdout",
     "output_type": "stream",
     "text": [
      "Simulando un aumento repentino en la radiación en un sistema de lazo cerrado...\n",
      "\n",
      "Tiempo(s)\tRadiación(rads)\tCorrección\tNivel actual(rads)\n",
      "0\t\t0\t\t\t0.00\t\t0.00\n",
      "1\t\t10\t\t\t0.00\t\t10.00\n",
      "2\t\t0\t\t\t-11.10\t\t-1.10\n",
      "3\t\t0\t\t\t0.32\t\t-0.78\n",
      "4\t\t0\t\t\t-0.04\t\t-0.82\n",
      "5\t\t0\t\t\t0.09\t\t-0.73\n",
      "6\t\t0\t\t\t0.07\t\t-0.66\n",
      "7\t\t0\t\t\t0.07\t\t-0.59\n",
      "8\t\t0\t\t\t0.06\t\t-0.53\n",
      "9\t\t0\t\t\t0.05\t\t-0.48\n",
      "10\t\t0\t\t\t0.05\t\t-0.43\n",
      "11\t\t0\t\t\t0.04\t\t-0.39\n",
      "12\t\t5\t\t\t0.04\t\t4.65\n",
      "13\t\t0\t\t\t-5.51\t\t-0.86\n",
      "14\t\t0\t\t\t0.19\t\t-0.67\n",
      "15\t\t0\t\t\t0.01\t\t-0.66\n",
      "16\t\t0\t\t\t0.07\t\t-0.59\n",
      "17\t\t0\t\t\t0.06\t\t-0.54\n",
      "18\t\t0\t\t\t0.05\t\t-0.48\n",
      "19\t\t0\t\t\t0.05\t\t-0.43\n",
      "20\t\t0\t\t\t0.04\t\t-0.39\n",
      "21\t\t0\t\t\t0.04\t\t-0.35\n",
      "22\t\t0\t\t\t0.04\t\t-0.32\n"
     ]
    },
    {
     "data": {
      "image/png": "[encoded data removed]",
      "text/plain": [
       "<Figure size 1280x384 with 1 Axes>"
      ]
     },
     "metadata": {},
     "output_type": "display_data"
    }
   ],
   "source": [
    "controller = PIDController()\n",
    "\n",
    "current_radiation = [rad_levels[0]]\n",
    "corrections_applied = []\n",
    "\n",
    "print(\"Simulando un aumento repentino en la radiación en un sistema de lazo cerrado...\\n\")\n",
    "print(\"Tiempo(s)\\tRadiación(rads)\\tCorrección\\tNivel actual(rads)\")\n",
    "\n",
    "for t, r in enumerate(rad_levels):\n",
    "    # La corrección que el controlador intenta aplicar\n",
    "    correction = controller(set_point, current_radiation[-1])\n",
    "\n",
    "    current_radiation.append(current_radiation[-1] + r + correction)\n",
    "    corrections_applied.append(correction)\n",
    "    \n",
    "    print(f\"{t}\\t\\t{r}\\t\\t\\t{correction:.2f}\\t\\t{current_radiation[-1]:.2f}\")\n",
    "\n",
    "# Gráfico de los niveles de radiación y los niveles corregidos\n",
    "plt.plot(current_radiation, label='Radiación en $t$')\n",
    "plt.plot(corrections_applied, label='Corrección aplicada', linestyle='--')\n",
    "plt.legend()\n",
    "plt.show()"
   ]
  },
  {
   "cell_type": "markdown",
   "metadata": {},
   "source": [
    "## Conclusiones"
   ]
  },
  {
   "cell_type": "markdown",
   "metadata": {},
   "source": [
    "Los controladores PID, con su capacidad para responder y adaptarse a las variaciones y perturbaciones de un sistema, demuestran ser herramientas imprescindibles en muchos campos de la ingeniería. En nuestro ejemplo, la supervivencia de los habitantes del refugio dependía directamente de la eficacia del controlador. Aunque es una representación ficticia, subraya la relevancia y el impacto potencial de estas herramientas en situaciones críticas. Podemos destacar:\n",
    "\n",
    "1. **Importancia del Control**: En un ambiente tan hostil y cambiante, tener herramientas que permitan un ajuste constante y preciso es vital. El controlador PID emerge como una solución robusta para garantizar que variables críticas, como los niveles de radiación en el agua, permanezcan dentro de límites seguros.\n",
    "2. **Dinámica de los Componentes PID**: Cada componente del PID tiene un papel fundamental en el comportamiento del controlador:\n",
    "    - El componente Proporcional actúa directamente en función del error presente, proporcionando una respuesta inmediata.\n",
    "    - El componente Integral asegura que los errores persistentes y acumulados se corrijan a lo largo del tiempo, evitando desviaciones sistemáticas.\n",
    "    - El componente Derivativo anticipa el comportamiento futuro del error, contribuyendo a una corrección más suave y evitando oscilaciones.\n",
    "3. **Lazo Cerrado vs Lazo Abierto**: Hemos visto que en un sistema de lazo cerrado, el controlador tiene una retroalimentación constante sobre el estado actual del sistema. Esto permite una adaptabilidad y corrección más efectivas en comparación con sistemas de lazo abierto, donde no hay retroalimentación.\n",
    "4. **Aplicabilidad Generalizada**: Aunque este ejemplo se centró en el escenario de Fallout, los principios subyacentes de los controladores PID son aplicables en una amplia variedad de situaciones y disciplinas, desde sistemas de climatización en edificios hasta regulación de velocidad en vehículos.\n",
    "5. **Aprendizaje Continuo**: Es esencial entender que, si bien un controlador PID es potente, su eficacia depende en gran medida de su sintonización adecuada. La elección correcta de los parámetros $Kp$​, $Ki$​, y $Kd$​ puede variar según el sistema y las condiciones operativas. Experimentar y aprender de los resultados es una parte intrínseca de la ingeniería de control."
   ]
  },
  {
   "cell_type": "markdown",
   "metadata": {
    "id": "UaneBW10p6JH"
   },
   "source": [
    "***\n",
    "\n",
    "<div><img style=\"float: right; width: 120px; vertical-align:top\" src=\"https://mirrors.creativecommons.org/presskit/buttons/88x31/png/by-nc-sa.png\" alt=\"Creative Commons by-nc-sa logo\" />\n",
    "\n",
    "[Volver al inicio](#top)\n",
    "\n",
    "</div>"
   ]
  }
 ],
 "metadata": {
  "accelerator": "GPU",
  "colab": {
   "provenance": [
    {
     "file_id": "/v2/external/notebooks/gpu.ipynb",
     "timestamp": 1611939535453
    }
   ]
  },
  "gpuClass": "standard",
  "kernelspec": {
   "display_name": "Python 3 (ipykernel)",
   "language": "python",
   "name": "python3"
  },
  "language_info": {
   "codemirror_mode": {
    "name": "ipython",
    "version": 3
   },
   "file_extension": ".py",
   "mimetype": "text/x-python",
   "name": "python",
   "nbconvert_exporter": "python",
   "pygments_lexer": "ipython3",
   "version": "3.10.12"
  }
 },
 "nbformat": 4,
 "nbformat_minor": 4
}
