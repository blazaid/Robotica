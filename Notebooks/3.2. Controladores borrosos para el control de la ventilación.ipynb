{
 "cells": [
  {
   "cell_type": "markdown",
   "metadata": {
    "slideshow": {
     "slide_type": "slide"
    }
   },
   "source": [
    "<div><img width=\"120px\" style=\"float: right; width: 120px; vertical-align:middle\" src=\"https://www.upm.es/sfs/Rectorado/Gabinete%20del%20Rector/Logos/EU_Informatica/ETSI%20SIST_INFORM_COLOR.png\" alt=\"ETSISI logo\" />\n",
    "\n",
    "# Controladores borrosos para el control de la ventilación<a id=\"top\"></a>\n",
    "\n",
    "<i><small>Autores: Alberto Díaz Álvarez y Guillermo Iglesias Fernández<br>Última actualización: 2022-10-17</small></i>\n",
    "\n",
    "***"
   ]
  },
  {
   "cell_type": "markdown",
   "metadata": {
    "slideshow": {
     "slide_type": "slide"
    }
   },
   "source": [
    "## Introducción"
   ]
  },
  {
   "cell_type": "markdown",
   "metadata": {},
   "source": [
    "La lógica borrosa es una extensión de la lógica booleana tradicional que fue introducida por Lotfi A. Zadeh en la década de 1960. A diferencia de la lógica booleana, que opera en valores absolutos de verdadero o falso (1 o 0), la lógica borrosa permite trabajar con grados de verdad, que pueden variar entre 0 y 1. Esta capacidad de manejar la incertidumbre y la ambigüedad hace que la lógica borrosa sea especialmente adecuada para situaciones en las que las decisiones no se pueden basar en datos precisos o cuando las categorizaciones claras son difíciles de establecer.\n",
    "\n",
    "El control borroso, una aplicación directa de la lógica borrosa, es un método de toma de decisiones y control que utiliza conjuntos borrosos y un sistema de reglas borrosas para determinar un resultado o acción. A diferencia de los sistemas de control tradicionales, que suelen basarse en ecuaciones matemáticas y modelos precisos, los controladores borrosos se basan en \"reglas lingüísticas\" o declaraciones cualitativas sobre cómo operar. Estas reglas, aunque imprecisas, suelen ser más intuitivas y más cercanas a la forma en que los humanos toman decisiones.\n",
    "\n",
    "En un contexto post-apocalíptico, la adaptabilidad y la toma de decisiones en condiciones inciertas son esenciales para la supervivencia. Es un entorno ideal para explorar cómo el control borroso puede ser una herramienta vital para gestionar sistemas críticos."
   ]
  },
  {
   "cell_type": "markdown",
   "metadata": {},
   "source": [
    "## Objetivos"
   ]
  },
  {
   "cell_type": "markdown",
   "metadata": {},
   "source": [
    "Durante este notebook cubriremos los siguientes objetivos:\n",
    "\n",
    "1. Introducir los conceptos fundamentales de la lógica y el control borroso\n",
    "2. Aplicar el control borroso a un problema práctico dentro del universo de Fallout\n",
    "3. Demostrar la utilidad del control borroso en sistemas de lazo cerrado.\n",
    "\n",
    "Y no se nos ocurre un escenario más realista que el universo Fallout. ¡Comenzamos!"
   ]
  },
  {
   "cell_type": "markdown",
   "metadata": {
    "slideshow": {
     "slide_type": "slide"
    }
   },
   "source": [
    "## Bibliotecas y configuración"
   ]
  },
  {
   "cell_type": "markdown",
   "metadata": {},
   "source": [
    "Comenzaremos instalando las bibliotecas necesarias. Esto sólo es necesario en el caso de que no tengamos el entorno ya creado."
   ]
  },
  {
   "cell_type": "code",
   "execution_count": null,
   "metadata": {},
   "outputs": [],
   "source": [
    "!pip install matplotlib\n",
    "!pip install numpy\n",
    "!pip install skfuzzy"
   ]
  },
  {
   "cell_type": "markdown",
   "metadata": {},
   "source": [
    "A continuación importaremos las bibliotecas que se utilizarán a lo largo del notebook."
   ]
  },
  {
   "cell_type": "code",
   "execution_count": null,
   "metadata": {
    "slideshow": {
     "slide_type": "fragment"
    }
   },
   "outputs": [],
   "source": [
    "import numpy as np\n",
    "import skfuzzy as fuzz\n",
    "from skfuzzy import control as ctrl"
   ]
  },
  {
   "cell_type": "markdown",
   "metadata": {},
   "source": [
    "Forzamos algunos parámetros de configuración."
   ]
  },
  {
   "cell_type": "code",
   "execution_count": null,
   "metadata": {},
   "outputs": [],
   "source": [
    "%matplotlib inline\n",
    "plt.style.use('ggplot')\n",
    "plt.rcParams.update({'figure.figsize': (20, 6),'figure.dpi': 64})"
   ]
  },
  {
   "cell_type": "markdown",
   "metadata": {},
   "source": [
    "***"
   ]
  },
  {
   "cell_type": "markdown",
   "metadata": {},
   "source": [
    "## Descripción del problema"
   ]
  },
  {
   "cell_type": "markdown",
   "metadata": {},
   "source": [
    "Tras el devastador cataclismo nuclear, el entorno externo se transformó en un yermo tóxico y desolado. Las antiguas metrópolis, ahora en ruinas, y los vastos desiertos cargados de radiación se encuentran impregnados de gases letales y partículas contaminantes en el aire, convirtiendo la atmósfera exterior en un peligro constante.\n",
    "\n",
    "Los refugios subterráneos surgieron como bastiones de esperanza, diseñados meticulosamente para proteger a sus ocupantes de las innumerables amenazas del exterior. Uno de los componentes más vitales de estos refugios es el sistema de ventilación, encargado no solo de suministrar oxígeno fresco, sino también de filtrar y neutralizar cualquier toxina o contaminante. No obstante, la naturaleza impredecible de este mundo post-apocalíptico presenta un desafío: en ocasiones, el aire exterior puede ser relativamente limpio, mientras que en otros momentos, puede estar saturado de tóxicos. Este carácter volátil y las posibles imprecisiones de los sistemas de medición tradicionales pueden llevar a decisiones subóptimas en cuanto a la ventilación.\n",
    "\n",
    "Es en este contexto que el control borroso cobra protagonismo. En vez de confiar exclusivamente en sensores de alta precisión y en puntos de ajuste fijos, el sistema de ventilación podría beneficiarse de una lógica borrosa. Esta lógica permitiría interpretar la calidad del aire mediante categorías más amplias, como 'Buena', 'Regular' y 'Mala'. Sumado a esto, es esencial considerar el número de ocupantes en el refugio, ya que no es lo mismo tener 10 personas respirando que 100. Por ello, se podrían utilizar categorías como 'Pocos', 'Moderado' y 'Muchos' para determinar el número de habitantes presentes. A partir de estas evaluaciones, el sistema podría ajustar adecuadamente el nivel de ventilación, optando por 'Bajo', 'Medio' o 'Alto'. Este sistema borroso, con su capacidad para tomar decisiones basadas en datos imprecisos o incompletos, garantiza que el aire dentro del refugio sea siempre seguro y respirable para sus habitantes."
   ]
  },
  {
   "cell_type": "markdown",
   "metadata": {},
   "source": [
    "## Desarrollo"
   ]
  },
  {
   "cell_type": "markdown",
   "metadata": {},
   "source": [
    "### Definición de las variables lingüísticas"
   ]
  },
  {
   "cell_type": "markdown",
   "metadata": {},
   "source": [
    "En nuestro problema usaremos tres variables lingüísticas, dos de entrada o **antecedentes** y una de salida o **consecuente**: (nivel de ventilación):\n",
    "\n",
    "- Calidad del Aire, la cual puede ser Buena\n",
    "        Buena: Puede representar niveles bajos de contaminantes y gases tóxicos. Esto podría ser un valor de, por ejemplo, 0-50 en una escala donde 100 es el aire más contaminado posible.\n",
    "        Regular: Niveles moderados de contaminantes. Un valor de, digamos, 50-80.\n",
    "        Mala: Niveles altos de contaminantes y gases tóxicos. Un valor de 80-100.\n",
    "\n",
    "    Cantidad de Personas:\n",
    "        Pocos: Si consideramos un refugio que puede albergar hasta 200 personas, \"pocos\" podría ser 0-50 personas.\n",
    "        Moderado: Un número intermedio de personas en el refugio, quizás de 50-150.\n",
    "        Muchos: Cuando el refugio está cerca o al máximo de su capacidad, es decir, de 150-200 personas.\n",
    "\n",
    "    Nivel de Ventilación (Variable de Salida):\n",
    "        Bajo: Esto podría ser un flujo de aire reducido, adecuado para condiciones óptimas. Por ejemplo, un rango de 0-33% de la capacidad total de ventilación del refugio.\n",
    "        Medio: Un flujo intermedio, posiblemente de 34-66% de la capacidad total.\n",
    "        Alto: Esto sería un flujo de aire acelerado, quizás de 67-100% de la capacidad total del refugio, usado en situaciones de máxima necesidad.\n",
    "\n",
    "En el caso de nuestra biblioteca, estas variables se representan con objetos de las clases `Antecedent` o `Consequent`, dependiendo de si se tratan de variables lingüísticas de entrada o de salida. Éstas contendrán la información de su dominio de aplicación y de las funciones de pertenencia que caracterizan a sus conjuntos borrosos."
   ]
  },
  {
   "cell_type": "code",
   "execution_count": null,
   "metadata": {},
   "outputs": [],
   "source": [
    "# Antecedentes\n",
    "air_quality = ctrl.Antecedent(np.arange(-np.pi, np.pi, 0.01), 'ángulo')\n",
    "people = ctrl.Antecedent(np.arange(-np.pi, np.pi, 0.01), 'ángulo')\n",
    "# Consecuente\n",
    "motor = ctrl.Consequent(np.arange(-1, 1.1, 0.01), 'motor')"
   ]
  },
  {
   "cell_type": "markdown",
   "metadata": {},
   "source": [
    "### Definición de las funciones de pertenencia\n",
    "\n",
    "Las funciones de pertenencia caracterizan a los conjuntos borrosos, que serán los valores que pueden tomar esas variables lingüísticas en mayor o menos medida."
   ]
  },
  {
   "cell_type": "code",
   "execution_count": null,
   "metadata": {},
   "outputs": [],
   "source": [
    "# Funciones de pertenencia de ángulo\n",
    "ángulo.automf(7)  # dismal, poor, mediocre, average, decent, good, excellent\n",
    "# Funciones de pertenencia de motor\n",
    "motor.automf(7)  # Las mismas"
   ]
  },
  {
   "cell_type": "markdown",
   "metadata": {},
   "source": [
    "Las funciones de pertenencia se pueden especificar de forma explícita, pero esta forma es más rápida para un ejemplo. En caso de querer especificar las funciones de pertenencia explícitamente basta con crearlas de la siguiente manera:\n",
    "\n",
    "```python\n",
    "ángulo['mn'] = fuzz.trimf(tip.universe, [-3.14, -2.36, -1.57])\n",
    "```\n",
    "\n",
    "Ahora veamos cómo han quedado las variables particionadas:"
   ]
  },
  {
   "cell_type": "code",
   "execution_count": null,
   "metadata": {},
   "outputs": [],
   "source": [
    "ángulo.view();\n",
    "motor.view();"
   ]
  },
  {
   "cell_type": "markdown",
   "metadata": {},
   "source": [
    "### Reglas del controlador\n",
    "\n",
    "Las reglas en este ejemplo son muy simple: relacionaremos cada ángulo directamente con la velocidad que tiene que tomar el carrito. Así, si está bastante escorado a la derecha, tendrá que aplicar bastante potencia al motor para que se desplace hacia la derecha."
   ]
  },
  {
   "cell_type": "code",
   "execution_count": null,
   "metadata": {},
   "outputs": [],
   "source": [
    "rulebase = [\n",
    "    ctrl.Rule(ángulo['dismal'], motor['dismal']),\n",
    "    ctrl.Rule(ángulo['poor'], motor['poor']),\n",
    "    ctrl.Rule(ángulo['mediocre'], motor['mediocre']),\n",
    "    ctrl.Rule(ángulo['average'], motor['average']),\n",
    "    ctrl.Rule(ángulo['decent'], motor['decent']),\n",
    "    ctrl.Rule(ángulo['good'], motor['good']),\n",
    "    ctrl.Rule(ángulo['excellent'], motor['excellent']),\n",
    "]"
   ]
  },
  {
   "cell_type": "markdown",
   "metadata": {},
   "source": [
    "Evidentemente, si dispusiésemos de más información de entrada, podríamos hacer un controlador más preciso y eficiente. Pero lo importante es que las reglas tienen sentido. Cualquiera que las oyese por primera vez las entendería y probablemente estuviese más o menos de acuerdo, pero son bastante imprecisas. Es en la imprecisión y la ambigüedad donde destaca la lógica borrosa."
   ]
  },
  {
   "cell_type": "markdown",
   "metadata": {},
   "source": [
    "### Construcción del simulador y lanzamiento de la simulación"
   ]
  },
  {
   "cell_type": "code",
   "execution_count": null,
   "metadata": {},
   "outputs": [],
   "source": [
    "péndulo_ctrl = ctrl.ControlSystem(rulebase)\n",
    "sim = ctrl.ControlSystemSimulation(péndulo_ctrl)"
   ]
  },
  {
   "cell_type": "markdown",
   "metadata": {},
   "source": [
    "Con el simulador una vez creado, podemos alimentarle con valores para ver cuál sería la salida de nuestro controlador:"
   ]
  },
  {
   "cell_type": "code",
   "execution_count": null,
   "metadata": {},
   "outputs": [],
   "source": [
    "sim.input['ángulo'] = -np.pi/4\n",
    "sim.compute()\n",
    "print(sim.output['motor'])"
   ]
  },
  {
   "cell_type": "markdown",
   "metadata": {},
   "source": [
    "Podemos además ver cual es la región activada en las variables de salida en función de las entradas (y las reglas activadas)."
   ]
  },
  {
   "cell_type": "code",
   "execution_count": null,
   "metadata": {},
   "outputs": [],
   "source": [
    "motor.view(sim=sim)"
   ]
  },
  {
   "cell_type": "markdown",
   "metadata": {},
   "source": [
    "## Resumiendo\n",
    "\n",
    "Hemos visto la implementación de un controlador basado en lógica borrosa muy sencillo. Evidentemente, mayor complejidad requerirá conocer mejor la librería. Por ello, nunca está de más visitar su [documentación oficial](https://pythonhosted.org/scikit-fuzzy/) (https://pythonhosted.org/scikit-fuzzy/)."
   ]
  },
  {
   "cell_type": "markdown",
   "metadata": {},
   "source": [
    "***\n",
    "\n",
    "<img style=\"float: right;\" src=\"data:image/png;base64,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\" alt=\"Creative Commons by-nc-sa logo\" />\n",
    "\n",
    "[Volver al inicio](#top)"
   ]
  }
 ],
 "metadata": {
  "kernelspec": {
   "display_name": "Python 3 (ipykernel)",
   "language": "python",
   "name": "python3"
  },
  "language_info": {
   "codemirror_mode": {
    "name": "ipython",
    "version": 3
   },
   "file_extension": ".py",
   "mimetype": "text/x-python",
   "name": "python",
   "nbconvert_exporter": "python",
   "pygments_lexer": "ipython3",
   "version": "3.10.12"
  }
 },
 "nbformat": 4,
 "nbformat_minor": 4
}
