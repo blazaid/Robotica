{
 "cells": [
  {
   "attachments": {},
   "cell_type": "markdown",
   "metadata": {
    "slideshow": {
     "slide_type": "slide"
    }
   },
   "source": [
    "<img style=\"float: right;\" src=\" data:image/png;base64,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\" alt=\"ETSISI logo\" />\n",
    "\n",
    "\n",
    "# Aprendizaje por refuerzo 1: 1D-ungeon <a id=\"top\"></a>\n",
    "\n",
    "<i><small>Autores: Alberto Díaz Álvarez y Raul Lara Cabrera<br>Última actualización: 2022-12-12</small></i>\n",
    "\n",
    "***"
   ]
  },
  {
   "cell_type": "markdown",
   "metadata": {
    "slideshow": {
     "slide_type": "slide"
    }
   },
   "source": [
    "## Introducción\n",
    "\n",
    "En este notebook aprenderemos las bases de cómo implementar una política de decisión (_policy_) y qué es el algoritmo Q-Learning. Para ello usaremos un ejemplo básico de RPG; tan básico que sólo habrá que explorar... una mazmorra en una dimensión."
   ]
  },
  {
   "cell_type": "markdown",
   "metadata": {},
   "source": [
    "## Objetivos\n",
    "\n",
    "Los objetivos de este Notebook son los siguientes:\n",
    "\n",
    "- Sentar las bases de qué son las _policy_ y por qué son importantes en el balance de exploración/explotación.\n",
    "- Aprender cómo funciona el algoritmo de Q-Learning para la asignación de valor a posibles transiciones entre estados."
   ]
  },
  {
   "cell_type": "markdown",
   "metadata": {
    "slideshow": {
     "slide_type": "slide"
    }
   },
   "source": [
    "## Imports y configuración\n",
    "\n",
    "A continuación importaremos las librerías que se usarán a lo largo del _notebook_."
   ]
  },
  {
   "cell_type": "code",
   "execution_count": null,
   "metadata": {
    "slideshow": {
     "slide_type": "fragment"
    }
   },
   "outputs": [],
   "source": [
    "import enum\n",
    "import random"
   ]
  },
  {
   "cell_type": "markdown",
   "metadata": {},
   "source": [
    "***"
   ]
  },
  {
   "attachments": {},
   "cell_type": "markdown",
   "metadata": {},
   "source": [
    "## Descripción del problema\n",
    "\n",
    "Somos un aventurero en una mazmorra muy simple, 8 celdas una detrás de otra como se ve en la imagen adjunta:\n",
    "\n",
    "![](images/1dungeon-1.png)\n",
    "\n",
    "Nuestro conocimiento de la mazmorra es el siguiente:\n",
    "\n",
    "1. Sabemos que la mazmorra tiene 8 habitaciones.\n",
    "2. Nuestras acciones son movernos a la derecha (una habitación cada vez) o a la izquierda (todas las habitaciones hasta el principio). Es lo que tiene visitar una mazmorra encantada.\n",
    "3. Un conjuro de confusión existente en las habitaciones nos afecta un 10% de las veces, haciendo que cambie nuestra orientación (es decir, a veces decidimos ir a la derecha y vamos a la izquierda y viceversa).\n",
    "3. Algunas habitaciones tienen tesoro.\n",
    "\n",
    "Lo que no sabemos de la mazmorra es que:\n",
    "\n",
    "1. La primera habitación tiene una recompensa de 1 moneda de oro.\n",
    "2. La última habitación tiene 10 monedas de oro.\n",
    "3. Las monedas se regeneran cada turno.\n",
    "\n",
    "Podemos representar el Proceso de Decisión de Markov (en realidad una pequeña porción, porque es relativamente grande) con el siguiente grafo:\n",
    "\n",
    "![](images/1dungeon-2.png)\n",
    "\n",
    "Sí, es un poco desparrame. Es una de las desventajas de este tipo de modelos, que está muy bien para casos muy sencillos, pero representar espacios no tan sencillos ya es un reto."
   ]
  },
  {
   "cell_type": "code",
   "execution_count": null,
   "metadata": {},
   "outputs": [],
   "source": [
    "TRAIN_STEPS = 10**6"
   ]
  },
  {
   "cell_type": "code",
   "execution_count": null,
   "metadata": {},
   "outputs": [],
   "source": [
    "class Actions(enum.Enum):\n",
    "    LEFT = 0\n",
    "    RIGHT = 1\n",
    "    \n",
    "    def switch(self):\n",
    "        if self == Actions.LEFT:\n",
    "            return Actions.RIGHT\n",
    "        else:\n",
    "            return Actions.LEFT"
   ]
  },
  {
   "cell_type": "code",
   "execution_count": null,
   "metadata": {},
   "outputs": [],
   "source": [
    "class Dungeon:\n",
    "    def __init__(self, *, rooms, p_confussion):\n",
    "        self.rooms = rooms\n",
    "        self.p_confussion = p_confussion\n",
    "        self.state = 0\n",
    "\n",
    "    def step(self, action):\n",
    "        if random.random() < self.p_confussion:\n",
    "            action = action.switch()\n",
    "\n",
    "        match action:\n",
    "            case Actions.LEFT:\n",
    "                self.state = 0\n",
    "            case Actions.RIGHT:\n",
    "                if self.state < len(self.rooms) - 1:\n",
    "                    self.state += 1\n",
    "\n",
    "        return self.state, self.rooms[self.state]\n",
    "\n",
    "    def reset(self):\n",
    "        self.state = 0"
   ]
  },
  {
   "cell_type": "markdown",
   "metadata": {},
   "source": [
    "## Primera aproximación: El aventurero que no sabe si va o viene\n",
    "\n",
    "La primera aproximación será, simplemente, escoger ir a izquierda o a derecha aleatoriamente."
   ]
  },
  {
   "cell_type": "code",
   "execution_count": null,
   "metadata": {},
   "outputs": [],
   "source": [
    "class Hero:\n",
    "    def __init__(self, *, dungeon):\n",
    "        self.dungeon = dungeon\n",
    "\n",
    "    def select_action(self, state):\n",
    "        return Actions.LEFT if random.random() < 0.5 else Actions.RIGHT"
   ]
  },
  {
   "cell_type": "code",
   "execution_count": null,
   "metadata": {},
   "outputs": [],
   "source": [
    "dungeon = Dungeon(rooms=[1, 0, 0, 0, 0, 0, 0, 10], p_confussion=0.1)\n",
    "hero = Hero(dungeon=dungeon)\n",
    "\n",
    "total = 0\n",
    "for i in range(TRAIN_STEPS):\n",
    "    old_state = dungeon.state\n",
    "    action = hero.select_action(old_state) \n",
    "    new_state, reward = dungeon.step(action)\n",
    "    total += reward\n",
    "\n",
    "print(f'Total reward: {total}')"
   ]
  },
  {
   "attachments": {},
   "cell_type": "markdown",
   "metadata": {},
   "source": [
    "## Segunda aproximación: El aventurero enzarpado\n",
    "\n",
    "Nuestro segundo aventurero seguirá la siguiente estrategia de toma de decisiones:\n",
    "\n",
    "1. Si desde donde estoy hay una acción más lucrativa que otra, realizaré dicha acción.\n",
    "2. Si ambas son iguales, escogeré una aleatoria.\n",
    "\n",
    "Para ello, en su parte trasera del mapa irá apuntando qué acciones han sido más lucrativas que otras. Veamos una simulación de este comportamiento."
   ]
  },
  {
   "cell_type": "code",
   "execution_count": null,
   "metadata": {},
   "outputs": [],
   "source": [
    "class Hero:\n",
    "    def __init__(self, *, dungeon):\n",
    "        self.dungeon = dungeon\n",
    "        self.actions_values = {\n",
    "            Actions.LEFT: [0 for _ in dungeon.rooms],\n",
    "            Actions.RIGHT: [0 for _ in dungeon.rooms],\n",
    "        }\n",
    "\n",
    "    def select_action(self, state):\n",
    "        if self.actions_values[Actions.RIGHT][state] < self.actions_values[Actions.LEFT][state]:\n",
    "            return Actions.LEFT\n",
    "        elif self.actions_values[Actions.LEFT][state] < self.actions_values[Actions.RIGHT][state]:\n",
    "            return Actions.RIGHT\n",
    "        else:\n",
    "            return Actions.LEFT if random.random() < 0.5 else Actions.RIGHT\n",
    "\n",
    "    def update(self, old_state, action, reward):\n",
    "        self.actions_values[action][old_state] += reward\n",
    "\n",
    "    def __str__(self):\n",
    "        string = ''\n",
    "        for k, v in self.actions_values.items():\n",
    "            string += f'{k}: {v}\\n'\n",
    "        return string"
   ]
  },
  {
   "cell_type": "code",
   "execution_count": null,
   "metadata": {},
   "outputs": [],
   "source": [
    "dungeon = Dungeon(rooms=[1, 0, 0, 0, 0, 0, 0, 10], p_confussion=0.1)\n",
    "hero = Hero(dungeon=dungeon)\n",
    "\n",
    "total = 0\n",
    "for i in range(TRAIN_STEPS):\n",
    "    old_state = dungeon.state\n",
    "    action = hero.select_action(old_state) \n",
    "    new_state, reward = dungeon.step(action)\n",
    "    hero.update(old_state, action, reward)\n",
    "    total += reward\n",
    "\n",
    "print(hero)\n",
    "print(f'Total reward: {total}')"
   ]
  },
  {
   "attachments": {},
   "cell_type": "markdown",
   "metadata": {},
   "source": [
    "## Tercera aproximación: Aventurero que sigue la estrategia $\\epsilon$-greedy\n",
    "\n",
    "En la anterior aproximación, el aventurero enzarpado **siempre** iba hacia la mejor recompensa que había encontrado en el pasado. Claro, lo más probable es ir cayendo en la recompensa pequeña por lo que prácticamente nunca irá hacia la derecha. Estamos prácticamente explotando y no explorando.\n",
    "\n",
    "La estrategia $\\epsilon$-greedy tratará de solventar esto. Es un método muy simple para equilibrar la exploración y la explotación aleatoriamente. El factor $\\epsilon \\in [0, 1]$ es el que se encargará de determinar cuál es la acción preferida, si explotar o explorar, y tiene la siguiente forma:\n",
    "\n",
    "$$p_\\epsilon = 1 - \\epsilon$$\n",
    "\n",
    "Cuando $\\epsilon$ está muy próximo a $1$, el comportamiento será de total exploración, es decir, un comportamiento aleatorio, y cuando está muy próximo a $0$, la acción que seguirá el agente es de total explotación.\n",
    "\n",
    "Nuestra implementación dará un paso más y usará la estrategia $\\epsilon$-greedy con decaimiento. Eso significa que el factor épsilon no es fijo, sino que a lo largo del entrenamiento irá disminuyendo, de tal manera que en los primeros estadios del proceso de entrenamiento tendrá un valor muy alto, favoreciendo la exploración, y según avance el entrenamiento irá decayendo favoreciendo la explotación. Esto es porque se espera que una vez avanzado el entrenamiento, el algoritmo ha sido capaz de encontrar regiones prometedoras con la exploración y ahora queremos explotarlas a ver hasta qué punto son buenas."
   ]
  },
  {
   "cell_type": "code",
   "execution_count": null,
   "metadata": {},
   "outputs": [],
   "source": [
    "class Hero:\n",
    "    def __init__(self, *, dungeon, epsilon, d_epsilon):\n",
    "        self.dungeon = dungeon\n",
    "        self.epsilon = epsilon\n",
    "        self.d_epsilon = d_epsilon\n",
    "        self.actions_values = {\n",
    "            Actions.LEFT: [0 for _ in dungeon.rooms],\n",
    "            Actions.RIGHT: [0 for _ in dungeon.rooms],\n",
    "        }\n",
    "\n",
    "    def select_action(self, state):\n",
    "        if random.random() < 1 - self.epsilon:\n",
    "            if self.actions_values[Actions.RIGHT][state] < self.actions_values[Actions.LEFT][state]:\n",
    "                return Actions.LEFT\n",
    "            elif self.actions_values[Actions.LEFT][state] < self.actions_values[Actions.RIGHT][state]:\n",
    "                return Actions.RIGHT\n",
    "        return Actions.LEFT if random.random() < 0.5 else Actions.RIGHT\n",
    "\n",
    "    def update(self, old_state, action, reward):\n",
    "        self.actions_values[action][old_state] += reward\n",
    "\n",
    "        if self.epsilon > 0:\n",
    "            self.epsilon -= self.d_epsilon\n",
    "\n",
    "    def __str__(self):\n",
    "        string = ''\n",
    "        for k, v in self.actions_values.items():\n",
    "            string += f'{k}: {v}\\n'\n",
    "        return string"
   ]
  },
  {
   "cell_type": "code",
   "execution_count": null,
   "metadata": {},
   "outputs": [],
   "source": [
    "dungeon = Dungeon(rooms=[1, 0, 0, 0, 0, 0, 0, 10], p_confussion=0.1)\n",
    "hero = Hero(dungeon=dungeon, epsilon=1.0, d_epsilon=1 / (TRAIN_STEPS / 2))\n",
    "\n",
    "total = 0\n",
    "for i in range(TRAIN_STEPS):\n",
    "    old_state = dungeon.state\n",
    "    action = hero.select_action(old_state)\n",
    "    new_state, reward = dungeon.step(action)\n",
    "    hero.update(old_state, action, reward)\n",
    "    total += reward\n",
    "\n",
    "print(hero)\n",
    "print(f'Total reward: {total}')"
   ]
  },
  {
   "cell_type": "markdown",
   "metadata": {},
   "source": [
    "## Cuarta aproximación: Aventurero que sigue la estrategia $\\epsilon$-greedy y que de verdad sabe lo que valen las cosas\n",
    "\n",
    "En al anterior aproximación hemos usado una estrategia distinta, y generalmente no es tan buena como la estrategia del enzarpado. Esto es porque la información que el agente guarda en su memoria es el de las recompensas inmediatas.\n",
    "\n",
    "La idea ahora será usar $q$-learning. Con esta estrategia de valoración de acciones y estados no almacenaremos el valor o la recompensa inmediata, sino que guardaremos también cierta memoria de acciones pasadas que nos irán indicando que a la derecha, a veces, hemos encontrado una región más prometedoras. Al variar la tabla de valores, la estrategia $\\epsilon$-greedy tendrá un escenario sobre el que trabajar más útil durante la exploración."
   ]
  },
  {
   "cell_type": "code",
   "execution_count": null,
   "metadata": {},
   "outputs": [],
   "source": [
    "class Hero:\n",
    "    def __init__(self, *, dungeon, epsilon, d_epsilon, alpha, gamma):\n",
    "        self.dungeon = dungeon\n",
    "        self.epsilon = epsilon\n",
    "        self.d_epsilon = d_epsilon\n",
    "        self.alpha = alpha\n",
    "        self.gamma = gamma\n",
    "        self.q_table = {\n",
    "            Actions.LEFT: [0 for _ in dungeon.rooms],\n",
    "            Actions.RIGHT: [0 for _ in dungeon.rooms],\n",
    "        }\n",
    "\n",
    "    def select_action(self, state):\n",
    "        if random.random() < 1 - self.epsilon:\n",
    "            return self._greedy(state)\n",
    "        else:\n",
    "            return self._random(state)\n",
    "\n",
    "    def _greedy(self, state):\n",
    "        if self.q_table[Actions.RIGHT][state] < self.q_table[Actions.LEFT][state]:\n",
    "            return Actions.LEFT\n",
    "        elif self.q_table[Actions.LEFT][state] < self.q_table[Actions.RIGHT][state]:\n",
    "            return Actions.RIGHT\n",
    "        else:\n",
    "            return self._random(state)\n",
    "\n",
    "    def _random(self, state):\n",
    "        return Actions.LEFT if random.random() < 0.5 else Actions.RIGHT\n",
    "\n",
    "\n",
    "    def update(self, old_state, new_state, action, reward):\n",
    "        old_value = self.q_table[action][old_state]\n",
    "\n",
    "        future_action = self._greedy(new_state)\n",
    "        future_reward = self.q_table[future_action][new_state]\n",
    "\n",
    "        new_value = old_value + self.alpha * (reward + self.gamma * future_reward - old_value)\n",
    "        self.q_table[action][old_state] = new_value\n",
    "\n",
    "        if self.epsilon > 0:\n",
    "            self.epsilon -= self.d_epsilon\n",
    "\n",
    "    def __str__(self):\n",
    "        string = ''\n",
    "        for k, v in self.q_table.items():\n",
    "            string += f'{k}: {v}\\n'\n",
    "        return string"
   ]
  },
  {
   "cell_type": "code",
   "execution_count": null,
   "metadata": {},
   "outputs": [],
   "source": [
    "dungeon = Dungeon(rooms=[1, 0, 0, 0, 0, 0, 0, 10], p_confussion=0.1)\n",
    "hero = Hero(dungeon=dungeon, epsilon=1.0, d_epsilon=1 / TRAIN_STEPS, alpha=0.1, gamma=0.95)\n",
    "\n",
    "total = 0\n",
    "for i in range(TRAIN_STEPS):\n",
    "    old_state = dungeon.state\n",
    "    action = hero.select_action(old_state) \n",
    "    new_state, reward = dungeon.step(action)\n",
    "    hero.update(old_state, new_state, action, reward)\n",
    "    total += reward\n",
    "print(hero)\n",
    "print(f'Total reward: {total}')"
   ]
  },
  {
   "attachments": {},
   "cell_type": "markdown",
   "metadata": {},
   "source": [
    "## Resumiendo\n",
    "\n",
    "Aunque es un algoritmo muy básico, podemos ver que un algoritmo de aprendizaje de mapeo estado-acción de tipo $Q$-learning es altamente efectivo en problemas de tiempo discreto y estados (y acciones) discretas. No obstante, uno de los problemas de este tipo de algoritmos es el de la explosión combinatoria, y se vuelven bastante inefectivos (por lo costoso que es computacionalmente) cuando los espacios de estados y acciones son muy grandes.\n",
    "\n",
    "Esos casos se resuelven con técnicas de reducción de la dimensionalidad, deep $q$-learning o similares, que se nos escapan a esta introducción. Lo que no quiere decir que no lo miréis si os interesa. Sentíos libres de explorar y compartir lo que aprendáis."
   ]
  },
  {
   "cell_type": "markdown",
   "metadata": {},
   "source": [
    "***\n",
    "\n",
    "<img style=\"float: right;\" src=\"data:image/png;base64,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\" alt=\"Creative Commons by-nc-sa logo\" />\n",
    "\n",
    "[Volver al inicio](#top)"
   ]
  }
 ],
 "metadata": {
  "kernelspec": {
   "display_name": "Python 3",
   "language": "python",
   "name": "python3"
  },
  "language_info": {
   "codemirror_mode": {
    "name": "ipython",
    "version": 3
   },
   "file_extension": ".py",
   "mimetype": "text/x-python",
   "name": "python",
   "nbconvert_exporter": "python",
   "pygments_lexer": "ipython3",
   "version": "3.10.8"
  },
  "vscode": {
   "interpreter": {
    "hash": "aee8b7b246df8f9039afb4144a1f6fd8d2ca17a180786b69acc140d282b71a49"
   }
  }
 },
 "nbformat": 4,
 "nbformat_minor": 2
}
